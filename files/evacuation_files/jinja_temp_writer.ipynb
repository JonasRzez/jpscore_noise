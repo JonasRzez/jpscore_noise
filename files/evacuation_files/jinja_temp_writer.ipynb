{
 "cells": [
  {
   "cell_type": "code",
   "execution_count": 1,
   "metadata": {},
   "outputs": [],
   "source": [
    "import os\n",
    "import numpy as np\n",
    "import itertools\n",
    "from jinja2 import Environment, FileSystemLoader"
   ]
  },
  {
   "cell_type": "code",
   "execution_count": 54,
   "metadata": {},
   "outputs": [
    {
     "name": "stdout",
     "output_type": "stream",
     "text": [
      "jpsvis evac_traj_30.txt\n",
      "['ini_20.xml', 'ini_30.xml']\n",
      "output:  geo_20.xml\n",
      "output:  geo_30.xml\n",
      "output:  ini_20.xml\n",
      "output:  ini_30.xml\n"
     ]
    }
   ],
   "source": [
    "#!/usr/bin/env python\n",
    "PATH = os.path.dirname(os.path.abspath(\"evac_geo_temp.xml\"))\n",
    "TEMPLATE_ENVIRONMENT = Environment(\n",
    "    autoescape=False,\n",
    "    loader=FileSystemLoader(PATH),\n",
    "    trim_blocks=False)\n",
    "\n",
    "def render_template(template_filename, context):\n",
    "    return TEMPLATE_ENVIRONMENT.get_template(template_filename).render(context)\n",
    "\n",
    "def Product(variables):\n",
    "    return list(itertools.product(*variables))\n",
    "\n",
    "def create_inifile(geo_name,b):\n",
    "   \n",
    "    path = \"../../../files/evacuation_files/\"\n",
    "    location = [path + \"evac_traj_\" + str(2 * bi)[0] + str(2*bi)[-1] + \".txt\" for bi in b]\n",
    "    #number = [10,11,12]\n",
    "    #outflow = range(1, 4, 2)    \n",
    "    variables = [b] #[seed, number, outflow]\n",
    "    product = Product(variables)\n",
    "    #geo_prod = Product(geo_name)\n",
    "    for b, in product:\n",
    "        context= {'b': b}\n",
    "        b2 = 2*b\n",
    "        b2str = str(b2)\n",
    "        fname = \"geo_\" + b2str[0] + b2str[-1] + \".xml\"\n",
    "        print(\"output: \", fname)\n",
    "\n",
    "        with open(fname, 'w') as f:\n",
    "            xml = render_template('evac_geo_temp.xml', context)\n",
    "            f.write(xml)\n",
    "    \n",
    "    for geo,loc in zip(geo_name,location):\n",
    "        ini_context = {'geo':geo,'location':loc}\n",
    "        fname_ini = \"ini_\" + geo[-6:-4] + \".xml\"\n",
    "        print(\"output: \", fname_ini)\n",
    "\n",
    "        with open(fname_ini, 'w') as f:\n",
    "            xml_ini = render_template('evac_ini_temp.xml', ini_context)\n",
    "            f.write(xml_ini)\n",
    "def main():\n",
    "    b = np.arange(1.0,2.0,0.5)\n",
    "    geo_name = [\"geo_\" + str(2 * bi)[0] + str(2*bi)[-1] + \".xml\" for bi in b]\n",
    "    ini_list = [\"ini_\" + geo[-6:-4] + \".xml\" for geo in geo_name]\n",
    "    location = \"evac_traj_\" + str(2 * b[-1])[0] + str(2*b[-1])[-1] + \".txt\"\n",
    "    print(\"jpsvis \"+ location)\n",
    "    print(ini_list)\n",
    "    create_inifile(geo_name,b)\n",
    "    for ini in ini_list:\n",
    "        os.system(\"pwd\")\n",
    "        os.chdir(\"../../build/bin\")\n",
    "        os.system(\"./jpscore ../../files/evacuation_files/\" + ini)\n",
    "        os.chdir(\"../../files/evacuation_files\")\n",
    "    os.system(\"jpsvis \"+ location)\n",
    "if __name__ == \"__main__\":\n",
    "    main()"
   ]
  },
  {
   "cell_type": "code",
   "execution_count": 37,
   "metadata": {},
   "outputs": [],
   "source": [
    "b = np.arange(0.5,1,0.25)\n",
    "geo_name = [\"geo_\" + str(2 * bi)[0] + str(2*bi)[-1] + \".xml\" for bi in b] #seed = [1,2,3]\n"
   ]
  },
  {
   "cell_type": "code",
   "execution_count": 43,
   "metadata": {},
   "outputs": [
    {
     "data": {
      "text/plain": [
       "32512"
      ]
     },
     "execution_count": 43,
     "metadata": {},
     "output_type": "execute_result"
    }
   ],
   "source": []
  },
  {
   "cell_type": "code",
   "execution_count": 9,
   "metadata": {},
   "outputs": [
    {
     "ename": "NameError",
     "evalue": "name 'os' is not defined",
     "output_type": "error",
     "traceback": [
      "\u001b[0;31m---------------------------------------------------------------------------\u001b[0m",
      "\u001b[0;31mNameError\u001b[0m                                 Traceback (most recent call last)",
      "\u001b[0;32m<ipython-input-9-dec2f3b28ffc>\u001b[0m in \u001b[0;36m<module>\u001b[0;34m\u001b[0m\n\u001b[0;32m----> 1\u001b[0;31m \u001b[0mos\u001b[0m\u001b[0;34m.\u001b[0m\u001b[0msystem\u001b[0m\u001b[0;34m(\u001b[0m\u001b[0;34m\"pwd\"\u001b[0m\u001b[0;34m)\u001b[0m\u001b[0;34m\u001b[0m\u001b[0;34m\u001b[0m\u001b[0m\n\u001b[0m\u001b[1;32m      2\u001b[0m \u001b[0mos\u001b[0m\u001b[0;34m.\u001b[0m\u001b[0mchdir\u001b[0m\u001b[0;34m(\u001b[0m\u001b[0;34m\"../../build/bin\"\u001b[0m\u001b[0;34m)\u001b[0m\u001b[0;34m\u001b[0m\u001b[0;34m\u001b[0m\u001b[0m\n\u001b[1;32m      3\u001b[0m \u001b[0mos\u001b[0m\u001b[0;34m.\u001b[0m\u001b[0msystem\u001b[0m\u001b[0;34m(\u001b[0m\u001b[0;34m\"./jpscore ../../files/evacuation_files/evac_ini.xml\"\u001b[0m\u001b[0;34m)\u001b[0m\u001b[0;34m\u001b[0m\u001b[0;34m\u001b[0m\u001b[0m\n\u001b[1;32m      4\u001b[0m \u001b[0mos\u001b[0m\u001b[0;34m.\u001b[0m\u001b[0mchdir\u001b[0m\u001b[0;34m(\u001b[0m\u001b[0;34m\"../../files/evacuation_files\"\u001b[0m\u001b[0;34m)\u001b[0m\u001b[0;34m\u001b[0m\u001b[0;34m\u001b[0m\u001b[0m\n\u001b[1;32m      5\u001b[0m \u001b[0mos\u001b[0m\u001b[0;34m.\u001b[0m\u001b[0msystem\u001b[0m\u001b[0;34m(\u001b[0m\u001b[0;34m\"jpsvis evac_traj.xml\"\u001b[0m\u001b[0;34m)\u001b[0m\u001b[0;34m\u001b[0m\u001b[0;34m\u001b[0m\u001b[0m\n",
      "\u001b[0;31mNameError\u001b[0m: name 'os' is not defined"
     ]
    }
   ],
   "source": [
    "os.system(\"pwd\")\n",
    "os.chdir(\"../../build/bin\")\n",
    "os.system(\"./jpscore ../../files/evacuation_files/evac_ini.xml\")\n",
    "os.chdir(\"../../files/evacuation_files\")\n",
    "os.system(\"jpsvis evac_traj.xml\")"
   ]
  },
  {
   "cell_type": "code",
   "execution_count": 14,
   "metadata": {},
   "outputs": [],
   "source": [
    "import pandas as pd\n",
    "from matplotlib import pyplot as plt\n"
   ]
  },
  {
   "cell_type": "code",
   "execution_count": 20,
   "metadata": {},
   "outputs": [],
   "source": [
    " data_y = pd.read_csv('dens2.dat' , sep=\"\\s+\", header=0)"
   ]
  },
  {
   "cell_type": "code",
   "execution_count": 21,
   "metadata": {},
   "outputs": [
    {
     "name": "stdout",
     "output_type": "stream",
     "text": [
      "   #Frame   dens    vel\n",
      "0       0  1.412  0.670\n",
      "1       1  1.388  0.659\n",
      "2       2  1.375  0.634\n",
      "3       3  1.397  0.568\n",
      "4       4  1.419  0.562\n"
     ]
    }
   ],
   "source": [
    "print(data_y.head())"
   ]
  },
  {
   "cell_type": "code",
   "execution_count": 22,
   "metadata": {},
   "outputs": [
    {
     "data": {
      "text/plain": [
       "[<matplotlib.lines.Line2D at 0x7ff7387a0f50>]"
      ]
     },
     "execution_count": 22,
     "metadata": {},
     "output_type": "execute_result"
    },
    {
     "data": {
      "image/png": "[encoded data removed]",
      "text/plain": [
       "<Figure size 432x288 with 1 Axes>"
      ]
     },
     "metadata": {
      "needs_background": "light"
     },
     "output_type": "display_data"
    }
   ],
   "source": [
    "plt.plot(data_y['#Frame'],data_y['dens'])"
   ]
  },
  {
   "cell_type": "code",
   "execution_count": 7,
   "metadata": {},
   "outputs": [
    {
     "name": "stdout",
     "output_type": "stream",
     "text": [
      "['geo_12.xml', 'geo_14.xml', 'geo_19.xml', 'geo_18.xml', 'geo_18.xml', 'geo_27.xml', 'geo_25.xml', 'geo_26.xml', 'geo_28.xml', 'geo_26.xml', 'geo_33.xml', 'geo_35.xml', 'geo_36.xml', 'geo_38.xml', 'geo_39.xml', 'geo_49.xml', 'geo_45.xml', 'geo_46.xml', 'geo_49.xml', 'geo_49.xml', 'geo_59.xml', 'geo_55.xml', 'geo_59.xml', 'geo_59.xml']\n",
      "['ini_12.xml', 'ini_14.xml', 'ini_19.xml', 'ini_18.xml', 'ini_18.xml', 'ini_27.xml', 'ini_25.xml', 'ini_26.xml', 'ini_28.xml', 'ini_26.xml', 'ini_33.xml', 'ini_35.xml', 'ini_36.xml', 'ini_38.xml', 'ini_39.xml', 'ini_49.xml', 'ini_45.xml', 'ini_46.xml', 'ini_49.xml', 'ini_49.xml', 'ini_59.xml', 'ini_55.xml', 'ini_59.xml', 'ini_59.xml']\n",
      "evac_traj_59.txt\n"
     ]
    }
   ],
   "source": [
    "import numpy as np\n",
    "b = np.arange(0.6,3.0,0.1)\n",
    "geo_name = [\"geo_\" + str(2 * bi)[0] + str(2*bi)[-1] + \".xml\" for bi in b]\n",
    "ini_list = [\"ini_\" + geo[-6:-4] + \".xml\" for geo in geo_name]\n",
    "print(geo_name)\n",
    "print(ini_list)\n",
    "location = \"evac_traj_\" + str(2 * b[-1])[0] + str(2*b[-1])[-1] + \".txt\"\n",
    "print(location)"
   ]
  },
  {
   "cell_type": "code",
   "execution_count": 10,
   "metadata": {},
   "outputs": [
    {
     "data": {
      "text/plain": [
       "49872"
      ]
     },
     "execution_count": 10,
     "metadata": {},
     "output_type": "execute_result"
    }
   ],
   "source": [
    "import random as rand\n",
    "int(rand.uniform(0,60000))"
   ]
  },
  {
   "cell_type": "code",
   "execution_count": null,
   "metadata": {},
   "outputs": [],
   "source": []
  }
 ],
 "metadata": {
  "kernelspec": {
   "display_name": "Python 3",
   "language": "python",
   "name": "python3"
  },
  "language_info": {
   "codemirror_mode": {
    "name": "ipython",
    "version": 3
   },
   "file_extension": ".py",
   "mimetype": "text/x-python",
   "name": "python",
   "nbconvert_exporter": "python",
   "pygments_lexer": "ipython3",
   "version": "3.7.4"
  }
 },
 "nbformat": 4,
 "nbformat_minor": 2
}
