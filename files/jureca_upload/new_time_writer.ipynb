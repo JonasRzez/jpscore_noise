{
 "cells": [
  {
   "cell_type": "code",
   "execution_count": 247,
   "metadata": {},
   "outputs": [
    {
     "name": "stdout",
     "output_type": "stream",
     "text": [
      "current path is  trajectories/ini_lm_N_ped55_tmax152_size_0_17_fps_16_testvar_b/\n",
      "0     0.1\n",
      "1     1.3\n",
      "2     0.1\n",
      "3     1.3\n",
      "4     0.1\n",
      "5     1.3\n",
      "6     0.1\n",
      "7     1.3\n",
      "8     0.1\n",
      "9     1.3\n",
      "10    0.1\n",
      "11    1.3\n",
      "Name: T, dtype: float64\n",
      "[0.1 1.3 0.1 1.3 0.1 1.3 0.1 1.3 0.1 1.3 0.1 1.3]\n",
      "[[ 0.7   0.6   1.34  0.1   3.6  55.    1.    0.25]\n",
      " [ 0.7   0.6   1.34  1.3   3.6  55.    1.    0.25]\n",
      " [ 0.7   1.15  1.34  0.1   3.6  55.    1.    0.25]\n",
      " [ 0.7   1.15  1.34  1.3   3.6  55.    1.    0.25]\n",
      " [ 0.7   1.7   1.34  0.1   3.6  55.    1.    0.25]\n",
      " [ 0.7   1.7   1.34  1.3   3.6  55.    1.    0.25]\n",
      " [ 0.7   2.25  1.34  0.1   3.6  55.    1.    0.25]\n",
      " [ 0.7   2.25  1.34  1.3   3.6  55.    1.    0.25]\n",
      " [ 0.7   2.8   1.34  0.1   3.6  55.    1.    0.25]\n",
      " [ 0.7   2.8   1.34  1.3   3.6  55.    1.    0.25]\n",
      " [ 0.7   3.    1.34  0.1   3.6  55.    1.    0.25]\n",
      " [ 0.7   3.    1.34  1.3   3.6  55.    1.    0.25]]\n",
      "    Unnamed: 0                                         ini_folder     b    v0  \\\n",
      "0            0  ini_0_6_lm_55_esigma_0_7_tmax_152_periodic_0_v...  0.60  1.34   \n",
      "1            1  ini_0_6_lm_55_esigma_0_7_tmax_152_periodic_0_v...  0.60  1.34   \n",
      "2            2  ini_1_15_lm_55_esigma_0_7_tmax_152_periodic_0_...  1.15  1.34   \n",
      "3            3  ini_1_15_lm_55_esigma_0_7_tmax_152_periodic_0_...  1.15  1.34   \n",
      "4            4  ini_1_7_lm_55_esigma_0_7_tmax_152_periodic_0_v...  1.70  1.34   \n",
      "5            5  ini_1_7_lm_55_esigma_0_7_tmax_152_periodic_0_v...  1.70  1.34   \n",
      "6            6  ini_2_25_lm_55_esigma_0_7_tmax_152_periodic_0_...  2.25  1.34   \n",
      "7            7  ini_2_25_lm_55_esigma_0_7_tmax_152_periodic_0_...  2.25  1.34   \n",
      "8            8  ini_2_8_lm_55_esigma_0_7_tmax_152_periodic_0_v...  2.80  1.34   \n",
      "9            9  ini_2_8_lm_55_esigma_0_7_tmax_152_periodic_0_v...  2.80  1.34   \n",
      "10          10  ini_3_0_lm_55_esigma_0_7_tmax_152_periodic_0_v...  3.00  1.34   \n",
      "11          11  ini_3_0_lm_55_esigma_0_7_tmax_152_periodic_0_v...  3.00  1.34   \n",
      "\n",
      "      T  rho  esigma  N_ped  mot_frac  \n",
      "0   0.1  3.6     0.7   55.0       1.0  \n",
      "1   1.3  3.6     0.7   55.0       1.0  \n",
      "2   0.1  3.6     0.7   55.0       1.0  \n",
      "3   1.3  3.6     0.7   55.0       1.0  \n",
      "4   0.1  3.6     0.7   55.0       1.0  \n",
      "5   1.3  3.6     0.7   55.0       1.0  \n",
      "6   0.1  3.6     0.7   55.0       1.0  \n",
      "7   1.3  3.6     0.7   55.0       1.0  \n",
      "8   0.1  3.6     0.7   55.0       1.0  \n",
      "9   1.3  3.6     0.7   55.0       1.0  \n",
      "10  0.1  3.6     0.7   55.0       1.0  \n",
      "11  1.3  3.6     0.7   55.0       1.0  \n",
      "[3.6 3.6 3.6 3.6 3.6 3.6 3.6 3.6 3.6 3.6 3.6 3.6]\n",
      "b/2 =  [0.6  0.6  1.15 1.15 1.7  1.7  2.25 2.25 2.8  2.8  3.   3.  ]\n",
      "fps =  16\n",
      "N_runs =  50\n",
      "folder_list_0 ini_0_6_lm_55_esigma_0_7_tmax_152_periodic_0_v0_1_34_T_0_1_rho_ini_3_6_Nped_55_0_motfrac_1_0\n",
      "folder_list_-1 ini_3_0_lm_55_esigma_0_7_tmax_152_periodic_0_v0_1_34_T_1_3_rho_ini_3_6_Nped_55_0_motfrac_1_0\n",
      "N_ped =  55\n",
      "t_max =  152\n",
      "mot_frac =  <bound method IndexOpsMixin.to_numpy of 0     1.0\n",
      "1     1.0\n",
      "2     1.0\n",
      "3     1.0\n",
      "4     1.0\n",
      "5     1.0\n",
      "6     1.0\n",
      "7     1.0\n",
      "8     1.0\n",
      "9     1.0\n",
      "10    1.0\n",
      "11    1.0\n",
      "Name: mot_frac, dtype: float64>\n",
      "writing files\n",
      "['ini_0_6_lm_55_esigma_0_7_tmax_152_periodic_0_v0_1_34_T_0_1_rho_ini_3_6_Nped_55_0_motfrac_1_0', 'ini_0_6_lm_55_esigma_0_7_tmax_152_periodic_0_v0_1_34_T_0_1_rho_ini_3_6_Nped_55_0_motfrac_1_0', 'ini_1_15_lm_55_esigma_0_7_tmax_152_periodic_0_v0_1_34_T_0_1_rho_ini_3_6_Nped_55_0_motfrac_1_0', 'ini_1_15_lm_55_esigma_0_7_tmax_152_periodic_0_v0_1_34_T_0_1_rho_ini_3_6_Nped_55_0_motfrac_1_0', 'ini_1_7_lm_55_esigma_0_7_tmax_152_periodic_0_v0_1_34_T_0_1_rho_ini_3_6_Nped_55_0_motfrac_1_0', 'ini_1_7_lm_55_esigma_0_7_tmax_152_periodic_0_v0_1_34_T_0_1_rho_ini_3_6_Nped_55_0_motfrac_1_0', 'ini_2_25_lm_55_esigma_0_7_tmax_152_periodic_0_v0_1_34_T_0_1_rho_ini_3_6_Nped_55_0_motfrac_1_0', 'ini_2_25_lm_55_esigma_0_7_tmax_152_periodic_0_v0_1_34_T_0_1_rho_ini_3_6_Nped_55_0_motfrac_1_0', 'ini_2_8_lm_55_esigma_0_7_tmax_152_periodic_0_v0_1_34_T_0_1_rho_ini_3_6_Nped_55_0_motfrac_1_0', 'ini_2_8_lm_55_esigma_0_7_tmax_152_periodic_0_v0_1_34_T_0_1_rho_ini_3_6_Nped_55_0_motfrac_1_0', 'ini_3_0_lm_55_esigma_0_7_tmax_152_periodic_0_v0_1_34_T_0_1_rho_ini_3_6_Nped_55_0_motfrac_1_0', 'ini_3_0_lm_55_esigma_0_7_tmax_152_periodic_0_v0_1_34_T_0_1_rho_ini_3_6_Nped_55_0_motfrac_1_0']\n",
      "/writing files\n"
     ]
    }
   ],
   "source": [
    "import pandas as pd\n",
    "import AnalFunctions as af\n",
    "import numpy as np\n",
    "import matplotlib.pyplot as plt\n",
    "import os\n",
    "\n",
    "path, folder_list, N_runs, b, cross_var, folder_frame, test_str, test_var, test_var2, test_str2, lin_var, T_test_list, sec_test_var, N_ped, fps, mot_frac = af.var_ini()\n",
    "af.file_writer(path, folder_list, N_runs, b, cross_var, folder_frame, test_str, test_var)\n",
    "\n",
    "sl = \"/\"\n",
    "T_test_list = lin_var[test_var2]\n",
    "lattice_type = 'jule'\n",
    "runs_tested = N_runs\n",
    "traj_testvar2 = []\n",
    "\n",
    "\n",
    "def dist(x1, y1, x2, y2, x3, y3): # x3,y3 is the point\n",
    "\n",
    "    px = x2-x1\n",
    "    py = y2-y1\n",
    "\n",
    "    norm = px*px + py*py\n",
    "\n",
    "    u =  ((x3 - x1) * px + (y3 - y1) * py) / float(norm)\n",
    "\n",
    "    #u_new = np.array([1 if ui > 1 else 0 for ui in u])\n",
    "    u[u > 1] = 1\n",
    "    u[u < 0] = 0\n",
    "\n",
    "    x = x1 + u * px\n",
    "    y = y1 + u * py\n",
    "\n",
    "    dx = x - x3\n",
    "    dy = y - y3\n",
    "\n",
    "    # Note: If the actual distance does not matter,\n",
    "    # if you only want to compare what this function\n",
    "    # returns to other results of this function, you\n",
    "    # can just return the squared distance instead\n",
    "    # (i.e. remove the sqrt) to gain a little performance\n",
    "\n",
    "    dist = np.sqrt(dx*dx + dy*dy)\n",
    "    return dist\n",
    "\n"
   ]
  },
  {
   "cell_type": "code",
   "execution_count": 248,
   "metadata": {},
   "outputs": [],
   "source": [
    "waittime_list = []\n",
    "test_var_list = []\n",
    "test_var2_list = []\n",
    "b_list = []\n",
    "N_ped_list = []\n",
    "T_list = []\n",
    "os.system(\"mkdir \" + path + \"waittime\")\n",
    "t_min = 10\n",
    "t_max = 30\n",
    "t_start = t_min * fps\n",
    "t_end = t_max * fps\n"
   ]
  },
  {
   "cell_type": "code",
   "execution_count": 249,
   "metadata": {},
   "outputs": [],
   "source": [
    "from multiprocessing import Pool\n"
   ]
  },
  {
   "cell_type": "code",
   "execution_count": 250,
   "metadata": {},
   "outputs": [
    {
     "ename": "TypeError",
     "evalue": "set expected at most 1 arguments, got 4",
     "output_type": "error",
     "traceback": [
      "\u001b[0;31m---------------------------------------------------------------------------\u001b[0m",
      "\u001b[0;31mTypeError\u001b[0m                                 Traceback (most recent call last)",
      "\u001b[0;32m<ipython-input-250-99d85973c28c>\u001b[0m in \u001b[0;36m<module>\u001b[0;34m\u001b[0m\n\u001b[0;32m----> 1\u001b[0;31m \u001b[0mset\u001b[0m\u001b[0;34m(\u001b[0m\u001b[0;36m1\u001b[0m\u001b[0;34m,\u001b[0m\u001b[0;36m2\u001b[0m\u001b[0;34m,\u001b[0m\u001b[0;36m2\u001b[0m\u001b[0;34m,\u001b[0m\u001b[0;36m3\u001b[0m\u001b[0;34m)\u001b[0m\u001b[0;34m\u001b[0m\u001b[0;34m\u001b[0m\u001b[0m\n\u001b[0m",
      "\u001b[0;31mTypeError\u001b[0m: set expected at most 1 arguments, got 4"
     ]
    }
   ],
   "source": [
    "set(1,2,2,3)"
   ]
  },
  {
   "cell_type": "code",
   "execution_count": 165,
   "metadata": {},
   "outputs": [
    {
     "name": "stdout",
     "output_type": "stream",
     "text": [
      "<calculating b = 1.2>\n",
      "0 965\n",
      "0 994\n",
      "0 990\n",
      "0 982\n",
      "0 996\n",
      "0 1017\n",
      "0 999\n",
      "0 981\n",
      "0 962\n",
      "0 994\n",
      "0 1012\n",
      "0 1021\n",
      "0 981\n",
      "0 1015\n",
      "0 1006\n",
      "0 1038\n",
      "0 998\n",
      "0 1058\n",
      "0 964\n",
      "0 993\n",
      "137\n",
      "386075\n",
      "0.0003548533316065531\n",
      "<calculating b = 2.3>\n",
      "0 1177\n",
      "0 1267\n",
      "0 1163\n",
      "0 1172\n",
      "0 1111\n",
      "0 1326\n",
      "0 1177\n",
      "0 1168\n",
      "0 1293\n",
      "0 1226\n",
      "0 1144\n",
      "0 1278\n",
      "0 1260\n",
      "0 1151\n",
      "0 1262\n",
      "0 1295\n",
      "0 1196\n",
      "0 1123\n",
      "0 1156\n",
      "0 1326\n",
      "1413\n",
      "498667\n",
      "0.002833554255645551\n",
      "<calculating b = 3.4>\n",
      "0 1220\n",
      "0 1179\n",
      "0 1206\n",
      "0 1153\n",
      "0 1210\n",
      "0 1213\n",
      "0 1190\n",
      "0 1284\n",
      "0 1192\n",
      "0 1279\n",
      "0 1324\n",
      "0 1191\n",
      "0 1136\n",
      "0 1183\n",
      "0 1154\n",
      "0 1161\n",
      "0 1196\n",
      "0 1239\n",
      "0 1182\n",
      "0 1141\n",
      "1506\n",
      "497228\n",
      "0.0030287916207454124\n",
      "<calculating b = 4.5>\n",
      "0 1090\n",
      "0 1148\n",
      "0 1170\n",
      "0 1327\n",
      "0 1112\n",
      "0 1226\n",
      "0 1092\n",
      "0 1183\n",
      "0 1150\n",
      "0 1120\n",
      "0 1116\n",
      "0 1074\n",
      "0 1214\n",
      "0 1142\n",
      "0 1247\n",
      "0 1260\n",
      "0 1119\n",
      "0 1165\n",
      "0 1254\n",
      "0 1202\n",
      "1615\n",
      "486545\n",
      "0.003319322981430289\n",
      "<calculating b = 5.6>\n",
      "0 1197\n",
      "0 1193\n",
      "0 1174\n",
      "0 1113\n",
      "0 1130\n",
      "0 1061\n",
      "0 1201\n",
      "0 1123\n",
      "0 1183\n",
      "0 1152\n",
      "0 1180\n",
      "0 1315\n",
      "0 1229\n",
      "0 1148\n",
      "0 1127\n",
      "0 1197\n",
      "0 1177\n",
      "0 1294\n",
      "0 1223\n",
      "0 1257\n",
      "1267\n",
      "485219\n",
      "0.0026111920596679026\n"
     ]
    }
   ],
   "source": [
    "col = [\"FR\",\"X\",\"Y\",\"ID\",\"IntID\"]\n",
    "blist = 2 * lin_var[test_var]\n",
    "v_0_list = []\n",
    "from itertools import groupby\n",
    "#N_del_i = 10\n",
    "N_del = 10\n",
    "for T_test in T_test_list[1:2]:\n",
    "    folder_frame_frac = np.array(folder_frame.loc[folder_frame[test_str2] == T_test]['ini_folder'])\n",
    "    b_folder = np.array(folder_frame.loc[folder_frame[test_str2] == T_test]['b'])\n",
    "    loc_list = [[path + folder + sl + \"new_evac_traj_\" + af.b_data_name(2 * bi, 3) + \"_\" + str(i) + \".txt\" for i in\n",
    "                 range(runs_tested)] for folder, bi in zip(folder_frame_frac, b_folder)]\n",
    "    bi = 0\n",
    "    for loc_list_runs in loc_list:\n",
    "        print(\"<calculating \" + test_str + \" = \" + str(2 * lin_var[test_var][bi]) + \">\")\n",
    "        p0count = 0\n",
    "        count = 0\n",
    "        incount = 0\n",
    "        for loc in loc_list_runs:\n",
    "            if os.path.isfile(loc) == False:\n",
    "                #print(\"WARNING: file \" + loc + \" not found.\")\n",
    "                continue\n",
    "            df = pd.read_csv(loc, sep=\"\\s+\", header=0, comment=\"#\",skipinitialspace=True, usecols=col)\n",
    "            n_min_frame = df.groupby('ID')['FR'].min()[df['ID']].nsmallest(N_del_i).index.values\n",
    "            n_max_frame = df.groupby('ID')['FR'].max()[df['ID']].nlargest(N_del).index.values\n",
    "            #df = df[~df['ID'].isin(n_min_frame)]\n",
    "\n",
    "            df = df[~df['ID'].isin(n_max_frame)]\n",
    "            #framemax = df[\"FR\"].max()\n",
    "            #print(ids)\n",
    "            #print(df_fr)\n",
    "            print(df[\"FR\"].min(),df[\"FR\"].max())\n",
    "            for t in np.arange(10 * fps,df[\"FR\"].max()):\n",
    "                #print(\"T=\",t)\n",
    "                df_t = df[df['FR'] == t]\n",
    "                df_id = df_t['ID'].values\n",
    "                df_int = df_t['IntID'].values\n",
    "                df_new = pd.DataFrame({\"ID\":df_id,\"IntID\":df_int})\n",
    "                np_new = df_new.values\n",
    "                set_new = [set(i) for i in np_new]\n",
    "                truec = np.array([len(list(group)) for key, group in groupby(set_new)]) > 1\n",
    "                truec = truec.sum()\n",
    "                count += truec\n",
    "                incount += df_int.shape[0]\n",
    "                #print(np.array([len(list(group)) for key, group in groupby(set_new)]) > 1 )\n",
    "\n",
    "                #print(df_new.isin(np_new))\n",
    "                #print(df_new)\n",
    "        print(count)\n",
    "        print(incount)\n",
    "        print(count/incount)\n",
    "                \n",
    "                \n",
    "        bi += 1           "
   ]
  },
  {
   "cell_type": "code",
   "execution_count": 252,
   "metadata": {},
   "outputs": [
    {
     "name": "stdout",
     "output_type": "stream",
     "text": [
      "<calculating b = 1.2>\n",
      "0 1071\n",
      "0 1064\n",
      "0 1040\n",
      "0 965\n",
      "0 995\n",
      "0 967\n",
      "0 990\n",
      "0 979\n",
      "0 975\n",
      "0 1052\n",
      "0 999\n",
      "0 965\n",
      "0 989\n",
      "0 1046\n",
      "0 1001\n",
      "0 964\n",
      "0 1013\n",
      "0 966\n",
      "0 975\n",
      "0 972\n",
      "0 993\n",
      "0 993\n",
      "0 1004\n",
      "0 975\n",
      "0 984\n",
      "0 1036\n",
      "0 1001\n",
      "0 1008\n",
      "0 1005\n",
      "0 1017\n",
      "0 1024\n",
      "0 1005\n",
      "0 1013\n",
      "0 1003\n",
      "0 1003\n",
      "0 991\n",
      "0 980\n",
      "0 1036\n",
      "0 1018\n",
      "0 1002\n",
      "0 1007\n",
      "0 1004\n",
      "0 1056\n",
      "0 970\n",
      "0 1075\n",
      "0 1015\n",
      "0 997\n",
      "0 1092\n",
      "0 978\n",
      "0 1013\n",
      "counts_mean =  1.148730519939014\n",
      "<calculating b = 1.2>\n",
      "0 1250\n",
      "0 1318\n",
      "0 1127\n",
      "0 1138\n",
      "0 1239\n",
      "0 1169\n",
      "0 1185\n",
      "0 1238\n",
      "0 1329\n",
      "0 1116\n",
      "0 1180\n",
      "0 1226\n",
      "0 1223\n",
      "0 1167\n",
      "0 1227\n",
      "0 1117\n",
      "0 1235\n",
      "0 1143\n",
      "0 1246\n",
      "0 1223\n",
      "0 1304\n",
      "0 1147\n",
      "0 1185\n",
      "0 1118\n",
      "0 1110\n",
      "0 1242\n",
      "0 1187\n",
      "0 1270\n",
      "0 1156\n",
      "0 1197\n",
      "0 1190\n",
      "0 1249\n",
      "0 1181\n",
      "0 1255\n",
      "0 1175\n",
      "0 1271\n",
      "0 1250\n",
      "0 1208\n",
      "0 1155\n",
      "0 1181\n",
      "0 1196\n",
      "0 1122\n",
      "0 1226\n",
      "0 1205\n",
      "0 1154\n",
      "0 1194\n",
      "0 1179\n",
      "0 1252\n",
      "0 1166\n",
      "0 1167\n",
      "counts_mean =  1.3951267010888757\n",
      "<calculating b = 1.2>\n",
      "0 1212\n",
      "0 1210\n",
      "0 1142\n",
      "0 1149\n",
      "0 1203\n",
      "0 1112\n",
      "0 1290\n",
      "0 1146\n",
      "0 1242\n",
      "0 1117\n",
      "0 1241\n",
      "0 1116\n",
      "0 1217\n",
      "0 1242\n",
      "0 1206\n",
      "0 1151\n",
      "0 1217\n",
      "0 1283\n",
      "0 1170\n",
      "0 1221\n",
      "0 1119\n",
      "0 1263\n",
      "0 1195\n",
      "0 1217\n",
      "0 1283\n",
      "0 1173\n",
      "0 1287\n",
      "0 1114\n",
      "0 1208\n",
      "0 1200\n",
      "0 1165\n",
      "0 1181\n",
      "0 1220\n",
      "0 1242\n",
      "0 1130\n",
      "0 1135\n",
      "0 1141\n",
      "0 1174\n",
      "0 1262\n",
      "0 1231\n",
      "0 1158\n",
      "0 1292\n",
      "0 1157\n",
      "0 1195\n",
      "0 1159\n",
      "0 1140\n",
      "0 1121\n",
      "0 1197\n",
      "0 1256\n",
      "0 1169\n",
      "counts_mean =  1.3879426778380948\n",
      "<calculating b = 1.2>\n",
      "0 1223\n",
      "0 1119\n",
      "0 1175\n",
      "0 1156\n",
      "0 1234\n",
      "0 1335\n",
      "0 1175\n",
      "0 1179\n",
      "0 1126\n",
      "0 1152\n",
      "0 1203\n",
      "0 1142\n",
      "0 1166\n",
      "0 1195\n",
      "0 1191\n",
      "0 1114\n",
      "0 1249\n",
      "0 1266\n",
      "0 1187\n",
      "0 1200\n",
      "0 1172\n",
      "0 1203\n",
      "0 1129\n",
      "0 1125\n",
      "0 1150\n",
      "0 1103\n",
      "0 1144\n",
      "0 1178\n",
      "0 1100\n",
      "0 1171\n",
      "0 1153\n",
      "0 1173\n",
      "0 1244\n",
      "0 1187\n",
      "0 1204\n",
      "0 1209\n",
      "0 1132\n",
      "0 1227\n",
      "0 1146\n",
      "0 1165\n",
      "0 1185\n",
      "0 1287\n",
      "0 1311\n",
      "0 1137\n",
      "0 1197\n",
      "0 1158\n",
      "0 1183\n",
      "0 1212\n",
      "0 1253\n",
      "0 1117\n",
      "counts_mean =  1.399499218020636\n",
      "<calculating b = 1.2>\n",
      "0 1100\n",
      "0 1142\n",
      "0 1235\n",
      "0 1136\n",
      "0 1178\n",
      "0 1110\n",
      "0 1151\n",
      "0 1115\n",
      "0 1210\n",
      "0 1137\n",
      "0 1183\n",
      "0 1137\n",
      "0 1267\n",
      "0 1129\n",
      "0 1300\n",
      "0 1156\n",
      "0 1213\n",
      "0 1188\n",
      "0 1121\n",
      "0 1134\n",
      "0 1160\n",
      "0 1116\n",
      "0 1145\n",
      "0 1261\n",
      "0 1227\n",
      "0 1207\n",
      "0 1104\n",
      "0 1224\n",
      "0 1150\n",
      "0 1187\n",
      "0 1120\n",
      "0 1185\n",
      "0 1201\n",
      "0 1140\n",
      "0 1199\n",
      "0 1229\n",
      "0 1164\n",
      "0 1248\n",
      "0 1298\n",
      "0 1257\n",
      "0 1350\n",
      "0 1208\n",
      "0 1156\n",
      "0 1135\n",
      "0 1119\n",
      "0 1338\n",
      "0 1154\n",
      "0 1196\n",
      "0 1176\n",
      "0 1195\n",
      "counts_mean =  1.42183803964963\n",
      "<calculating b = 1.2>\n",
      "0 1304\n",
      "0 1136\n",
      "0 1185\n",
      "0 1230\n",
      "0 1108\n",
      "0 1123\n",
      "0 1138\n",
      "0 1098\n",
      "0 1220\n",
      "0 1244\n",
      "0 1268\n",
      "0 1254\n",
      "0 1189\n",
      "0 1153\n",
      "0 1172\n",
      "0 1162\n",
      "0 1247\n",
      "0 1152\n",
      "0 1350\n",
      "0 1113\n",
      "0 1209\n",
      "0 1195\n",
      "0 1187\n",
      "0 1215\n",
      "0 1093\n",
      "0 1251\n",
      "0 1136\n",
      "0 1168\n",
      "0 1119\n",
      "0 1186\n",
      "0 1251\n",
      "0 1226\n",
      "0 1148\n",
      "0 1176\n",
      "0 1215\n",
      "0 1238\n",
      "0 1177\n",
      "0 1121\n",
      "0 1116\n",
      "0 1243\n",
      "0 1128\n",
      "0 1198\n",
      "0 1172\n",
      "0 1233\n",
      "0 1181\n",
      "0 1207\n",
      "0 1129\n",
      "0 1230\n",
      "0 1223\n",
      "0 1223\n",
      "counts_mean =  1.4373203590502062\n"
     ]
    },
    {
     "data": {
      "image/png": "[encoded data removed]",
      "text/plain": [
       "<Figure size 432x288 with 1 Axes>"
      ]
     },
     "metadata": {
      "needs_background": "light"
     },
     "output_type": "display_data"
    }
   ],
   "source": [
    "N_del = 10\n",
    "for T_test in T_test_list[1:2]:\n",
    "    folder_frame_frac = np.array(folder_frame.loc[folder_frame[test_str2] == T_test]['ini_folder'])\n",
    "    b_folder = np.array(folder_frame.loc[folder_frame[test_str2] == T_test]['b'])\n",
    "    loc_list = [[path + folder + sl + \"new_evac_traj_\" + af.b_data_name(2 * bi, 3) + \"_\" + str(i) + \".txt\" for i in\n",
    "                 range(runs_tested)] for folder, bi in zip(folder_frame_frac, b_folder)]\n",
    "    bi = 0\n",
    "    count_list = []\n",
    "\n",
    "    for loc_list_runs in loc_list:\n",
    "        print(\"<calculating \" + test_str + \" = \" + str(2 * lin_var[test_var][bi]) + \">\")\n",
    "        p0count = 0\n",
    "        count = 0\n",
    "        incount = 0\n",
    "        count_mean = 0\n",
    "        time = np.arange(1 * fps,5 * fps,fps)\n",
    "        n_count = 50 * time.shape[0]\n",
    "        for loc in loc_list_runs:\n",
    "            if os.path.isfile(loc) == False:\n",
    "                #print(\"WARNING: file \" + loc + \" not found.\")\n",
    "                continue\n",
    "            df = pd.read_csv(loc, sep=\"\\s+\", header=0, comment=\"#\",skipinitialspace=True, usecols=col)\n",
    "            n_min_frame = df.groupby('ID')['FR'].min()[df['ID']].nsmallest(N_del_i).index.values\n",
    "            n_max_frame = df.groupby('ID')['FR'].max()[df['ID']].nlargest(N_del).index.values\n",
    "            #df = df[~df['ID'].isin(n_min_frame)]\n",
    "\n",
    "            df = df[~df['ID'].isin(n_max_frame)]\n",
    "            #df = df[df['Y'] > 0]\n",
    "            #df = df[df['X'] * df['X'] + df['Y']* df['Y'] < 1.5**2]\n",
    "            #framemax = df[\"FR\"].max()\n",
    "            #print(ids)\n",
    "            #print(df_fr)\n",
    "            print(df[\"FR\"].min(),df[\"FR\"].max())\n",
    "            \n",
    "            \n",
    "            \n",
    "            for t in time:\n",
    "                xpos = []\n",
    "                ypos = []\n",
    "                u = []\n",
    "                v = []\n",
    "                df_t = df[df[\"FR\"] == t]\n",
    "                #print(df_t)\n",
    "                id_list = df_t[\"ID\"].values\n",
    "                int_list = df_t[df_t[\"IntID\"]> 0][\"IntID\"].values\n",
    "                unique, counts = np.unique(int_list, return_counts=True)\n",
    "                #print(counts.mean())\n",
    "                count_mean += counts.mean()\n",
    "                #print(id_list)\n",
    "                for i in id_list:\n",
    "                    df_id = df_t[df_t[\"ID\"] == i]\n",
    "                    x1 = df_id[\"X\"].values[0]\n",
    "                    x2 = df_id[\"Y\"].values[0]\n",
    "                    inter = df_id[\"IntID\"].values[0]\n",
    "                    \n",
    "                    #print(inter)\n",
    "                    xpos.append([x1])\n",
    "                    ypos.append([x2])\n",
    "                    if inter > 0:\n",
    "                        #print(inter)\n",
    "                        #print(np.isin(inter,id_list))\n",
    "                        df_int = df_t[df_t[\"ID\"] == inter] \n",
    "                        #print(df_int)\n",
    "                        \n",
    "                        if(df_int.values.shape[0] > 0):\n",
    "                            x1int = df_int[\"X\"].values[0]\n",
    "                            x2int = df_int[\"Y\"].values[0]\n",
    "                            u.append(x1int - x1)\n",
    "                            v.append(x2int - x2)\n",
    "                        else:\n",
    "                            u.append(0)\n",
    "                            v.append(0)\n",
    "                    else:\n",
    "                        u.append(0)\n",
    "                        v.append(0)\n",
    "                #fig, ax = plt.subplots(figsize = (12, 7))\n",
    "                #plt.scatter(xpos,ypos)\n",
    "                #ax.quiver(xpos, ypos, u, v,angles='xy', scale_units='xy',scale = 1)\n",
    "                #ax.set_aspect(\"equal\")\n",
    "\n",
    "\n",
    "  \n",
    "                #ax.axis([-3, 3, -1, 5]) \n",
    "  \n",
    "                 #show plot \n",
    "                #plt.show() \n",
    "        print(\"counts_mean = \", count_mean/n_count)\n",
    "        count_list.append(count_mean/n_count)\n",
    "    plt.plot(2 * lin_var[test_var],count_list)\n",
    "                    \n",
    "                            "
   ]
  },
  {
   "cell_type": "code",
   "execution_count": 9,
   "metadata": {},
   "outputs": [
    {
     "name": "stdout",
     "output_type": "stream",
     "text": [
      "<calculating b = 1.2>\n",
      "2\n"
     ]
    },
    {
     "data": {
      "image/png": "[encoded data removed]",
      "text/plain": [
       "<Figure size 432x288 with 1 Axes>"
      ]
     },
     "metadata": {
      "needs_background": "light"
     },
     "output_type": "display_data"
    },
    {
     "data": {
      "image/png": "[encoded data removed]",
      "text/plain": [
       "<Figure size 432x288 with 1 Axes>"
      ]
     },
     "metadata": {
      "needs_background": "light"
     },
     "output_type": "display_data"
    },
    {
     "data": {
      "image/png": "[encoded data removed]",
      "text/plain": [
       "<Figure size 432x288 with 1 Axes>"
      ]
     },
     "metadata": {
      "needs_background": "light"
     },
     "output_type": "display_data"
    },
    {
     "name": "stdout",
     "output_type": "stream",
     "text": [
      "0.3037698001480385\n",
      "39.58836475907006\n",
      "<calculating b = 2.3>\n",
      "20\n"
     ]
    },
    {
     "data": {
      "image/png": "[encoded data removed]",
      "text/plain": [
       "<Figure size 432x288 with 1 Axes>"
      ]
     },
     "metadata": {
      "needs_background": "light"
     },
     "output_type": "display_data"
    },
    {
     "data": {
      "image/png": "[encoded data removed]",
      "text/plain": [
       "<Figure size 432x288 with 1 Axes>"
      ]
     },
     "metadata": {
      "needs_background": "light"
     },
     "output_type": "display_data"
    },
    {
     "data": {
      "image/png": "[encoded data removed]",
      "text/plain": [
       "<Figure size 432x288 with 1 Axes>"
      ]
     },
     "metadata": {
      "needs_background": "light"
     },
     "output_type": "display_data"
    },
    {
     "name": "stdout",
     "output_type": "stream",
     "text": [
      "0.10988669007341206\n",
      "44.08397353800435\n",
      "<calculating b = 3.4>\n",
      "19\n"
     ]
    },
    {
     "data": {
      "image/png": "[encoded data removed]",
      "text/plain": [
       "<Figure size 432x288 with 1 Axes>"
      ]
     },
     "metadata": {
      "needs_background": "light"
     },
     "output_type": "display_data"
    },
    {
     "data": {
      "image/png": "[encoded data removed]",
      "text/plain": [
       "<Figure size 432x288 with 1 Axes>"
      ]
     },
     "metadata": {
      "needs_background": "light"
     },
     "output_type": "display_data"
    },
    {
     "data": {
      "image/png": "[encoded data removed]",
      "text/plain": [
       "<Figure size 432x288 with 1 Axes>"
      ]
     },
     "metadata": {
      "needs_background": "light"
     },
     "output_type": "display_data"
    },
    {
     "name": "stdout",
     "output_type": "stream",
     "text": [
      "0.0983364866414402\n",
      "45.68114775453726\n",
      "<calculating b = 4.5>\n",
      "18\n"
     ]
    },
    {
     "data": {
      "image/png": "[encoded data removed]",
      "text/plain": [
       "<Figure size 432x288 with 1 Axes>"
      ]
     },
     "metadata": {
      "needs_background": "light"
     },
     "output_type": "display_data"
    },
    {
     "data": {
      "image/png": "[encoded data removed]",
      "text/plain": [
       "<Figure size 432x288 with 1 Axes>"
      ]
     },
     "metadata": {
      "needs_background": "light"
     },
     "output_type": "display_data"
    },
    {
     "data": {
      "image/png": "[encoded data removed]",
      "text/plain": [
       "<Figure size 432x288 with 1 Axes>"
      ]
     },
     "metadata": {
      "needs_background": "light"
     },
     "output_type": "display_data"
    },
    {
     "name": "stdout",
     "output_type": "stream",
     "text": [
      "0.09792927908524886\n",
      "45.17895381657351\n",
      "<calculating b = 5.6>\n",
      "20\n"
     ]
    },
    {
     "data": {
      "image/png": "[encoded data removed]",
      "text/plain": [
       "<Figure size 432x288 with 1 Axes>"
      ]
     },
     "metadata": {
      "needs_background": "light"
     },
     "output_type": "display_data"
    },
    {
     "data": {
      "image/png": "[encoded data removed]",
      "text/plain": [
       "<Figure size 432x288 with 1 Axes>"
      ]
     },
     "metadata": {
      "needs_background": "light"
     },
     "output_type": "display_data"
    },
    {
     "data": {
      "image/png": "[encoded data removed]",
      "text/plain": [
       "<Figure size 432x288 with 1 Axes>"
      ]
     },
     "metadata": {
      "needs_background": "light"
     },
     "output_type": "display_data"
    },
    {
     "name": "stdout",
     "output_type": "stream",
     "text": [
      "0.09719562439201175\n",
      "45.67478591921606\n"
     ]
    }
   ],
   "source": [
    "col = [\"FR\",\"X\",\"Y\",\"ID\",\"speed_nn\",\"ANGLE_int_nn\"]\n",
    "blist = 2 * lin_var[test_var]\n",
    "v_0_list = []\n",
    "for T_test in T_test_list[1:2]:\n",
    "    folder_frame_frac = np.array(folder_frame.loc[folder_frame[test_str2] == T_test]['ini_folder'])\n",
    "    b_folder = np.array(folder_frame.loc[folder_frame[test_str2] == T_test]['b'])\n",
    "\n",
    "    loc_list = [[path + folder + sl + \"new_evac_traj_\" + af.b_data_name(2 * bi, 3) + \"_\" + str(i) + \".txt\" for i in\n",
    "                 range(runs_tested)] for folder, bi in zip(folder_frame_frac, b_folder)]\n",
    "    bi = 0\n",
    "    \n",
    "    v_0_mean = np.empty(blist.shape[0])\n",
    "    v_0_var = np.empty(blist.shape[0])\n",
    "    angle_nn_mean = np.empty(blist.shape[0])\n",
    "    for loc_list_runs in loc_list:\n",
    "        print(\"<calculating \" + test_str + \" = \" + str(2 * lin_var[test_var][bi]) + \">\")\n",
    "        v_nn_mean = np.empty(0)\n",
    "        angle_nn = np.empty(0)\n",
    "        p0count = 0\n",
    "        for loc in loc_list_runs:\n",
    "            if os.path.isfile(loc) == False:\n",
    "                #print(\"WARNING: file \" + loc + \" not found.\")\n",
    "                continue\n",
    "            df = pd.read_csv(loc, sep=\"\\s+\", header=0, comment=\"#\",skipinitialspace=True, usecols=col)\n",
    "            #df['ANGLE_int_nn'] = df['ANGLE_int_nn'].values.astype(np.float)\n",
    "            df = df[df['FR'] > 10 * fps]\n",
    "            df = df[df['ANGLE_int_nn'].values.astype(np.float) >= 0.0]\n",
    "            df = df[df['speed_nn'].values.astype(np.float) >= 0.0]\n",
    "            df = df[df['speed_nn'].values.astype(np.float) < 1.34]\n",
    "            p0 = df.groupby('FR')['speed_nn'].max()\n",
    "            p0 = p0[p0.values < 0.1].values.shape[0]\n",
    "            #print(p0)\n",
    "            if p0 > 0:\n",
    "                p0count += 1\n",
    "            \n",
    "            #print(p0)\n",
    "            df = df[df['FR'] > fps * 10]\n",
    "            df = df[df['Y'] > 0]\n",
    "            df = df[df['X'] * df['X'] + df['Y']* df['Y'] < 1.]\n",
    "            v_nn_mean = np.append(v_nn_mean,df['speed_nn'].values.astype(np.float))  \n",
    "            #df = df[abs(df['X']) < 0.5]\n",
    "            #df = df[df['Y'] > 1]\n",
    "\n",
    "            #df = df[df['Y'] < 1]\n",
    "\n",
    "            angle_nn = np.append(angle_nn,np.arccos(df['ANGLE_int_nn'].values.astype(np.float))*180./3.1415)\n",
    "        print(p0count)\n",
    "        #plt.hist(v_nn_mean,bins=50)\n",
    "        #plt.show()\n",
    "\n",
    "        x, bins, p= plt.hist(angle_nn,bins=18,density=True)        \n",
    "        plt.show()\n",
    "\n",
    "        x, bins, p =plt.hist(v_nn_mean,bins = 18,density=True)\n",
    "        plt.show()\n",
    "\n",
    "        nphist = np.histogram(v_nn_mean,bins=18,density = True)\n",
    "        #plt.plot(nphist[1][:-1],np.log(-np.log(1-nphist[0])), marker = \"o\", linestyle='none')\n",
    "        plt.plot(nphist[1][:-1],nphist[0], marker = \"o\", linestyle='none')\n",
    "        #plt.xscale(\"log\")\n",
    "        #plt.yscale(\"log\")\n",
    "        plt.show()\n",
    "        #print(v_nn_mean)\n",
    "        v_0_list.append(v_nn_mean.mean())\n",
    "        v_0_mean[bi] = v_nn_mean.mean()\n",
    "        v_0_var[bi] = v_nn_mean.std()\n",
    "        print(v_nn_mean.mean())\n",
    "        angle_nn_mean[bi] = angle_nn.mean()\n",
    "        print(angle_nn.mean())\n",
    "        bi += 1\n",
    "        #print(v_nn_mean.mean())\n"
   ]
  },
  {
   "cell_type": "code",
   "execution_count": 10,
   "metadata": {},
   "outputs": [
    {
     "data": {
      "image/png": "[encoded data removed]",
      "text/plain": [
       "<Figure size 432x288 with 1 Axes>"
      ]
     },
     "metadata": {
      "needs_background": "light"
     },
     "output_type": "display_data"
    },
    {
     "data": {
      "image/png": "[encoded data removed]",
      "text/plain": [
       "<Figure size 432x288 with 1 Axes>"
      ]
     },
     "metadata": {
      "needs_background": "light"
     },
     "output_type": "display_data"
    },
    {
     "data": {
      "image/png": "[encoded data removed]",
      "text/plain": [
       "<Figure size 432x288 with 1 Axes>"
      ]
     },
     "metadata": {
      "needs_background": "light"
     },
     "output_type": "display_data"
    },
    {
     "data": {
      "image/png": "[encoded data removed]",
      "text/plain": [
       "<Figure size 432x288 with 1 Axes>"
      ]
     },
     "metadata": {
      "needs_background": "light"
     },
     "output_type": "display_data"
    }
   ],
   "source": [
    "#plt.yscale(\"exp\")\n",
    "#plt.xscale(\"log\")\n",
    "plt.scatter(blist,1/v_0_mean)\n",
    "\n",
    "plt.show()\n",
    "\n",
    "plt.scatter(blist,v_0_var)\n",
    "plt.show()\n",
    "plt.scatter(blist,angle_nn_mean)\n",
    "plt.show()\n",
    "\n",
    "plt.scatter(angle_nn_mean,v_0_mean)\n",
    "\n",
    "plt.show()\n"
   ]
  },
  {
   "cell_type": "code",
   "execution_count": 45,
   "metadata": {},
   "outputs": [
    {
     "name": "stdout",
     "output_type": "stream",
     "text": [
      "<calculating b = 0.55>\n"
     ]
    },
    {
     "name": "stderr",
     "output_type": "stream",
     "text": [
      "/Users/jonas/opt/anaconda3/lib/python3.7/site-packages/ipykernel_launcher.py:41: RuntimeWarning: divide by zero encountered in true_divide\n"
     ]
    },
    {
     "name": "stdout",
     "output_type": "stream",
     "text": [
      "</calculating b = 0.55>\n"
     ]
    },
    {
     "data": {
      "image/png": "[encoded data removed]",
      "text/plain": [
       "<Figure size 432x288 with 1 Axes>"
      ]
     },
     "metadata": {
      "needs_background": "light"
     },
     "output_type": "display_data"
    }
   ],
   "source": [
    "col = [\"FR\",\"X\",\"Y\",\"ID\"]\n",
    "t_array = np.arange(t_start, 100 * fps, int(fps/2 ))#\n",
    "for T_test in T_test_list[0:1]:\n",
    "    folder_frame_frac = np.array(folder_frame.loc[folder_frame[test_str2] == T_test]['ini_folder'])\n",
    "    b_folder = np.array(folder_frame.loc[folder_frame[test_str2] == T_test]['b'])\n",
    "\n",
    "    loc_list = [[path + folder + sl + \"new_evac_traj_\" + af.b_data_name(2 * bi, 3) + \"_\" + str(i) + \".txt\" for i in\n",
    "                 range(runs_tested)] for folder, bi in zip(folder_frame_frac, b_folder)]\n",
    "    bi = 0\n",
    "    ttt_arr = np.empty(0)\n",
    "    dist_arr = np.empty(0)\n",
    "    angle_arr = np.empty(0)\n",
    "    x_ar = np.empty(0)\n",
    "    y_ar = np.empty(0)\n",
    "    for loc_list_runs in loc_list[-2:-1]:\n",
    "        print(\"<calculating \" + test_str + \" = \" + str(lin_var[test_var][bi]) + \">\")\n",
    "\n",
    "        for loc in loc_list_runs:\n",
    "            df = pd.read_csv(loc, sep=\"\\s+\", header=0, comment=\"#\",skipinitialspace=True, usecols=col)\n",
    "            min_value = df.groupby('ID')['Y'].min()[df['ID']][0:N_ped - 1]\n",
    "            #n_max_frame = df.groupby('ID')['FR'].max()[df['ID']][0:N_ped - 1].nlargest(12).index.values\n",
    "            #print(n_max_frame)\n",
    "            min_value = min_value[min_value < -0.2]\n",
    "            key_filtered = min_value.keys().values\n",
    "            \n",
    "            df = df[df['ID'].isin(key_filtered)]\n",
    "            df = df[df['Y'] > 0.]\n",
    "            df = df[~df['ID'].isin(n_max_frame)]\n",
    "            \n",
    "            max_frame = df.groupby('ID')['FR'].max()[df['ID']]\n",
    "            #print(max_frame.groupby('ID').nlargest(1))\n",
    "            df['max_frame'] = max_frame.values\n",
    "            df = df[df['FR'].isin(t_array)]\n",
    "\n",
    "            #print(max_frame)\n",
    "\n",
    "\n",
    "            x = df['X'].values\n",
    "            y = df['Y'].values\n",
    "            #dist_ttt = np.round(dist(-0.4, 0., 0.4, 0., x, y),2)\n",
    "            dist_ttt = np.round(np.sqrt( x * x + y * y),1)\n",
    "            angle_ttt = np.round(np.arctan(y/x),1)\n",
    "            ttt = df['max_frame'].values - df['FR'].values\n",
    "            ttt_arr = np.append(ttt_arr,ttt)\n",
    "            dist_arr = np.append(dist_arr,dist_ttt)\n",
    "            angle_arr = np.append(angle_arr,angle_ttt)\n",
    "            x_ar = np.append(x_ar,x)\n",
    "            y_ar = np.append(y_ar,y)\n",
    "        print(\"</calculating \" + test_str + \" = \" + str(lin_var[test_var][bi]) + \">\")\n",
    "        #print(dist_ttt.shape)\n",
    "        #print(ttt.shape)\n",
    "        #print(np.array(ttt_arr))\n",
    "        df_plot = pd.DataFrame({\"ttt\" :  ttt_arr  / fps,\"angle\":angle_arr, \"dist\": dist_arr,\"x\":x_ar,\"y\":y_ar })\n",
    "        #plt.plot(dist_arr,ttt_arr/fps,marker = \"o\",linestyle='none')\n",
    "        #print(df_plot)\n",
    "        #print(df_plot)\n",
    "        bi += 1\n",
    "        df_mean = df_plot[df_plot[\"dist\"] < 1.2]\n",
    "        df_mean = df_mean[df_mean[\"dist\"] > 1.0]\n",
    "\n",
    "        df_mean = df_mean.groupby(\"angle\").mean()\n",
    "        #print(df_mean)\n",
    "        plt.plot(df_mean.index,df_mean[\"ttt\"],marker = \"o\",linestyle='none')\n",
    "        #plt.xscale('log')\n",
    "        #plt.yscale('log')\n",
    "        plt.show()\n",
    "        #plt.plot(df_plot[\"dist\"].values, ttt_mean_list,marker = \"o\",linestyle='none')\n",
    "   # plt.show()\n"
   ]
  },
  {
   "cell_type": "code",
   "execution_count": 35,
   "metadata": {},
   "outputs": [
    {
     "data": {
      "text/plain": [
       "'theta = df_plot[\\'angle\\'].values\\nr = df_plot[\\'dist\\'].values\\nttt = df_plot[\\'ttt\\'].values\\n\\nx_arr = r * np.cos(theta)\\ny_arr = r * np.sin(theta)\\n\\nx, y = np.meshgrid(x_arr, y_arr)\\nttt_mesh = np.meshgrid(ttt,ttt)\\nz = ttt_mesh[:-1, :-1].flatten()\\n\\nz_min, z_max = np.abs(z).min(), np.abs(z).max()\\nfig, ax = plt.subplots()\\nc = ax.pcolormesh(x, y, z, cmap=\\'hot\\', vmin=z_min, vmax=12, label=\"density in [m^-2]\")\\n# set the limits of the plot to the limits of the data\\nax.axis([x.min(), x.max(), y.min(), y.max()])\\nfig.colorbar(c, ax=ax, label=\"$\\\\rho$ in [$m^{-2}$]\")\\nprint(z.mean())\\nprint(\"corridor width = \", bi)\\nif bi == 1.7 or bi == 1.2:\\n    print(\"density jump\")\\nline_width = 2.5\\nadd_wall(line_width,bi*2)\\nname_var = lin_var[test_var][test_var_count]\\ntest_var_count += 1'"
      ]
     },
     "execution_count": 35,
     "metadata": {},
     "output_type": "execute_result"
    }
   ],
   "source": [
    "\"\"\"theta = df_plot['angle'].values\n",
    "r = df_plot['dist'].values\n",
    "ttt = df_plot['ttt'].values\n",
    "\n",
    "x_arr = r * np.cos(theta)\n",
    "y_arr = r * np.sin(theta)\n",
    "\n",
    "x, y = np.meshgrid(x_arr, y_arr)\n",
    "ttt_mesh = np.meshgrid(ttt,ttt)\n",
    "z = ttt_mesh[:-1, :-1].flatten()\n",
    "\n",
    "z_min, z_max = np.abs(z).min(), np.abs(z).max()\n",
    "fig, ax = plt.subplots()\n",
    "c = ax.pcolormesh(x, y, z, cmap='hot', vmin=z_min, vmax=12, label=\"density in [m^-2]\")\n",
    "# set the limits of the plot to the limits of the data\n",
    "ax.axis([x.min(), x.max(), y.min(), y.max()])\n",
    "fig.colorbar(c, ax=ax, label=\"$\\\\rho$ in [$m^{-2}$]\")\n",
    "print(z.mean())\n",
    "print(\"corridor width = \", bi)\n",
    "if bi == 1.7 or bi == 1.2:\n",
    "    print(\"density jump\")\n",
    "line_width = 2.5\n",
    "add_wall(line_width,bi*2)\n",
    "name_var = lin_var[test_var][test_var_count]\n",
    "test_var_count += 1\"\"\""
   ]
  },
  {
   "cell_type": "code",
   "execution_count": 36,
   "metadata": {},
   "outputs": [
    {
     "data": {
      "text/plain": [
       "'df_plot[\\'x\\']= np.round(x_arr,1)\\ndf_plot[\\'y\\']= np.round(y_arr,1)\\ndf_heat = pd.DataFrame({\"x\":np.round(x_arr,1),\"y\":np.round(y_arr,1),\"ttt\":ttt_arr/fps})'"
      ]
     },
     "execution_count": 36,
     "metadata": {},
     "output_type": "execute_result"
    }
   ],
   "source": [
    "\"\"\"df_plot['x']= np.round(x_arr,1)\n",
    "df_plot['y']= np.round(y_arr,1)\n",
    "df_heat = pd.DataFrame({\"x\":np.round(x_arr,1),\"y\":np.round(y_arr,1),\"ttt\":ttt_arr/fps})\"\"\""
   ]
  },
  {
   "cell_type": "code",
   "execution_count": 46,
   "metadata": {},
   "outputs": [],
   "source": [
    "x_arr = np.round(np.arange(-3.5,3.5,0.1),1)\n",
    "y_arr = np.round(np.arange(0,10,0.1),1)\n"
   ]
  },
  {
   "cell_type": "code",
   "execution_count": 56,
   "metadata": {},
   "outputs": [],
   "source": [
    "ttt_arr = np.zeros([y_arr.shape[0],x_arr.shape[0]])\n",
    "df_plot2 = df_plot\n",
    "df_plot2['x'] = np.round(df_plot2['x'].values,1)\n",
    "df_plot2['y'] = np.round(df_plot2['y'].values,1)\n",
    "\n",
    "x_i = 0\n",
    "for x in x_arr:\n",
    "    y_i = 0\n",
    "    for y in y_arr:\n",
    "        x_bool = df_plot2['x'] == x\n",
    "        df_new = df_plot2[x_bool]\n",
    "        y_bool = df_new['y'] == y\n",
    "\n",
    "        df_new = df_new[y_bool]\n",
    "        #print(df_new['ttt'].values.shape[0])\n",
    "        if (df_new['ttt'].values.shape[0]  and x*x + y*y < 4 and x*x + y * y > 0.09):\n",
    "            ttt_arr[y_i][x_i] += df_new['ttt'].values.sum()/df_new['ttt'].values.shape[0]\n",
    "            \n",
    "        y_i += 1\n",
    "    x_i += 1\n"
   ]
  },
  {
   "cell_type": "code",
   "execution_count": 57,
   "metadata": {},
   "outputs": [
    {
     "name": "stdout",
     "output_type": "stream",
     "text": [
      "(70,) (100,)\n"
     ]
    },
    {
     "data": {
      "text/plain": [
       "(100, 70)"
      ]
     },
     "execution_count": 57,
     "metadata": {},
     "output_type": "execute_result"
    }
   ],
   "source": [
    "print(x_arr.shape,y_arr.shape)\n",
    "ttt_arr.shape"
   ]
  },
  {
   "cell_type": "code",
   "execution_count": 58,
   "metadata": {},
   "outputs": [
    {
     "data": {
      "text/plain": [
       "<matplotlib.colorbar.Colorbar at 0x7fa37091a5d0>"
      ]
     },
     "execution_count": 58,
     "metadata": {},
     "output_type": "execute_result"
    },
    {
     "data": {
      "image/png": "[encoded data removed]",
      "text/plain": [
       "<Figure size 432x288 with 2 Axes>"
      ]
     },
     "metadata": {
      "needs_background": "light"
     },
     "output_type": "display_data"
    }
   ],
   "source": [
    "x, y = np.meshgrid(x_arr, y_arr)\n",
    "\n",
    "r = x * x + y * y\n",
    "\n",
    "\n",
    "z = np.divide(ttt_arr,r, where= r != 0)\n",
    "\n",
    "#z = ttt_arr\n",
    "#z = r\n",
    "#print(z[z > 0])\n",
    "z_min, z_max = np.abs(z).min(), np.abs(z).max()\n",
    "fig, ax = plt.subplots()\n",
    "c = ax.pcolormesh(x, y, z, cmap='hot', vmin=z_min, vmax=z_max, label=\"density in [m^-2]\")\n",
    "# set the limits of the plot to the limits of the data\n",
    "ax.axis([x.min(), x.max(), y.min(), y.max()])\n",
    "plt.xlim([-2,2])\n",
    "plt.ylim([0,4])\n",
    "fig.colorbar(c, ax=ax, label=\"$\\\\rho$ in [$m^{-2}$]\")\n",
    "#print(z.mean())\n",
    "#print(\"corridor width = \", bi)\n",
    "#if bi == 1.7 or bi == 1.2:\n",
    "#    print(\"density jump\")\n",
    "#line_width = 2.5\n",
    "#add_wall(line_width,bi*2)\n",
    "#name_var = lin_var[test_var][test_var_count]\n",
    "#test_var_count += 1"
   ]
  }
 ],
 "metadata": {
  "kernelspec": {
   "display_name": "Python 3",
   "language": "python",
   "name": "python3"
  },
  "language_info": {
   "codemirror_mode": {
    "name": "ipython",
    "version": 3
   },
   "file_extension": ".py",
   "mimetype": "text/x-python",
   "name": "python",
   "nbconvert_exporter": "python",
   "pygments_lexer": "ipython3",
   "version": "3.7.4"
  }
 },
 "nbformat": 4,
 "nbformat_minor": 2
}
