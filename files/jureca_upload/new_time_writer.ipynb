{
 "cells": [
  {
   "cell_type": "code",
   "execution_count": 168,
   "metadata": {},
   "outputs": [
    {
     "name": "stdout",
     "output_type": "stream",
     "text": [
      "current path is  trajectories/ini_lm_N_ped55_tmax103_size_0_17_fps_16_testvar_b/\n",
      "Index(['Unnamed: 0', 'ini_folder', 'b', 'v0', 'T', 'rho', 'esigma', 'N_ped',\n",
      "       'mot_frac'],\n",
      "      dtype='object')\n",
      "0    1.3\n",
      "1    1.3\n",
      "Name: T, dtype: float64\n",
      "[1.3 1.3]\n",
      "[[ 0.7   0.6   1.34  1.3   3.6  55.    1.    0.25]\n",
      " [ 0.7   0.75  1.34  1.3   3.6  55.    1.    0.25]]\n",
      "   Unnamed: 0                                         ini_folder     b    v0  \\\n",
      "0           0  ini_0_6_lm_55_esigma_0_7_tmax_103_periodic_0_v...  0.60  1.34   \n",
      "1           1  ini_0_75_lm_55_esigma_0_7_tmax_103_periodic_0_...  0.75  1.34   \n",
      "\n",
      "     T  rho  esigma  N_ped  mot_frac  \n",
      "0  1.3  3.6     0.7   55.0       1.0  \n",
      "1  1.3  3.6     0.7   55.0       1.0  \n",
      "[3.6 3.6]\n",
      "b/2 =  [0.6  0.75]\n",
      "fps =  16\n",
      "N_runs =  1\n",
      "folder_list_0 ini_0_6_lm_55_esigma_0_7_tmax_103_periodic_0_v0_1_34_T_1_3_rho_ini_3_6_Nped_55_0_motfrac_1_0\n",
      "folder_list_-1 ini_0_75_lm_55_esigma_0_7_tmax_103_periodic_0_v0_1_34_T_1_3_rho_ini_3_6_Nped_55_0_motfrac_1_0\n",
      "N_ped =  55\n",
      "t_max =  103\n",
      "mot_frac =  <bound method IndexOpsMixin.to_numpy of 0    1.0\n",
      "1    1.0\n",
      "Name: mot_frac, dtype: float64>\n",
      "writing files\n",
      "['ini_0_6_lm_55_esigma_0_7_tmax_103_periodic_0_v0_1_34_T_1_3_rho_ini_3_6_Nped_55_0_motfrac_1_0', 'ini_0_75_lm_55_esigma_0_7_tmax_103_periodic_0_v0_1_34_T_1_3_rho_ini_3_6_Nped_55_0_motfrac_1_0']\n",
      "WARNING: file trajectories/ini_lm_N_ped55_tmax103_size_0_17_fps_16_testvar_b/ini_0_6_lm_55_esigma_0_7_tmax_103_periodic_0_v0_1_34_T_1_3_rho_ini_3_6_Nped_55_0_motfrac_1_0/evac_traj_1_2_0.txt not found\n",
      "WARNING: file trajectories/ini_lm_N_ped55_tmax103_size_0_17_fps_16_testvar_b/ini_0_75_lm_55_esigma_0_7_tmax_103_periodic_0_v0_1_34_T_1_3_rho_ini_3_6_Nped_55_0_motfrac_1_0/evac_traj_1_5_0.txt not found\n",
      "/writing files\n"
     ]
    }
   ],
   "source": [
    "import pandas as pd\n",
    "import AnalFunctions as af\n",
    "import numpy as np\n",
    "import matplotlib.pyplot as plt\n",
    "import os\n",
    "\n",
    "path, folder_list, N_runs, b, cross_var, folder_frame, test_str, test_var, test_var2, test_str2, lin_var, T_test_list, sec_test_var, N_ped, fps, mot_frac = af.var_ini()\n",
    "af.file_writer(path, folder_list, N_runs, b, cross_var, folder_frame, test_str, test_var)\n",
    "\n",
    "sl = \"/\"\n",
    "T_test_list = lin_var[test_var2]\n",
    "lattice_type = 'jule'\n",
    "runs_tested = N_runs\n",
    "traj_testvar2 = []\n",
    "\n",
    "\n",
    "def dist(x1, y1, x2, y2, x3, y3): # x3,y3 is the point\n",
    "\n",
    "    px = x2-x1\n",
    "    py = y2-y1\n",
    "\n",
    "    norm = px*px + py*py\n",
    "\n",
    "    u =  ((x3 - x1) * px + (y3 - y1) * py) / float(norm)\n",
    "\n",
    "    #u_new = np.array([1 if ui > 1 else 0 for ui in u])\n",
    "    u[u > 1] = 1\n",
    "    u[u < 0] = 0\n",
    "\n",
    "    x = x1 + u * px\n",
    "    y = y1 + u * py\n",
    "\n",
    "    dx = x - x3\n",
    "    dy = y - y3\n",
    "\n",
    "    # Note: If the actual distance does not matter,\n",
    "    # if you only want to compare what this function\n",
    "    # returns to other results of this function, you\n",
    "    # can just return the squared distance instead\n",
    "    # (i.e. remove the sqrt) to gain a little performance\n",
    "\n",
    "    dist = np.sqrt(dx*dx + dy*dy)\n",
    "    return dist\n",
    "\n"
   ]
  },
  {
   "cell_type": "code",
   "execution_count": 96,
   "metadata": {},
   "outputs": [],
   "source": [
    "def add_wall(line_width,bi):\n",
    "    wall1 = plt.Line2D((-bi / 2, -bi / 2), (0, 100), lw=line_width)\n",
    "    wall2 = plt.Line2D((bi / 2, bi / 2), (0, 100), lw=line_width)\n",
    "    wall3 = plt.Line2D((-bi / 2, -0.45), (0, 0), lw=line_width)\n",
    "    wall4 = plt.Line2D((0.45, bi / 2), (0, 0), lw=line_width)\n",
    "    wall5 = plt.Line2D((0.45, 0.25), (0., -0.15), lw=line_width)\n",
    "    wall6 = plt.Line2D((-0.45, -0.25), (0., -0.15), lw=line_width)\n",
    "    wall7 = plt.Line2D((0.25, 0.25), (-0.15, -1.0), lw=line_width)\n",
    "    wall8 = plt.Line2D((-0.25, -0.25), (-0.15, -1.), lw=line_width)\n",
    "    plt.gca().add_line(wall1)\n",
    "    plt.gca().add_line(wall2)\n",
    "    plt.gca().add_line(wall3)\n",
    "    plt.gca().add_line(wall4)\n",
    "    plt.gca().add_line(wall5)\n",
    "    plt.gca().add_line(wall6)\n",
    "    plt.gca().add_line(wall7)\n",
    "    plt.gca().add_line(wall8)\n"
   ]
  },
  {
   "cell_type": "code",
   "execution_count": 11,
   "metadata": {},
   "outputs": [],
   "source": [
    "waittime_list = []\n",
    "test_var_list = []\n",
    "test_var2_list = []\n",
    "b_list = []\n",
    "N_ped_list = []\n",
    "T_list = []\n",
    "os.system(\"mkdir \" + path + \"waittime\")\n",
    "t_min = 10\n",
    "t_max = 30\n",
    "t_start = t_min * fps\n",
    "t_end = t_max * fps\n"
   ]
  },
  {
   "cell_type": "code",
   "execution_count": 12,
   "metadata": {},
   "outputs": [],
   "source": [
    "from multiprocessing import Pool\n"
   ]
  },
  {
   "cell_type": "code",
   "execution_count": 13,
   "metadata": {},
   "outputs": [],
   "source": [
    "col = [\"FR\",\"X\",\"Y\",\"ID\",\"IntID\"]\n",
    "blist = 2 * lin_var[test_var]\n",
    "v_0_list = []\n",
    "from itertools import groupby\n",
    "#N_del_i = 10\n",
    "N_del = 10\n",
    "for T_test in T_test_list[1:2]:\n",
    "    folder_frame_frac = np.array(folder_frame.loc[folder_frame[test_str2] == T_test]['ini_folder'])\n",
    "    b_folder = np.array(folder_frame.loc[folder_frame[test_str2] == T_test]['b'])\n",
    "    loc_list = [[path + folder + sl + \"new_evac_traj_\" + af.b_data_name(2 * bi, 3) + \"_\" + str(i) + \".txt\" for i in\n",
    "                 range(runs_tested)] for folder, bi in zip(folder_frame_frac, b_folder)]\n",
    "    bi = 0\n",
    "    for loc_list_runs in loc_list:\n",
    "        print(\"<calculating \" + test_str + \" = \" + str(2 * lin_var[test_var][bi]) + \">\")\n",
    "        p0count = 0\n",
    "        count = 0\n",
    "        incount = 0\n",
    "        for loc in loc_list_runs:\n",
    "            if os.path.isfile(loc) == False:\n",
    "                #print(\"WARNING: file \" + loc + \" not found.\")\n",
    "                continue\n",
    "            df = pd.read_csv(loc, sep=\"\\s+\", header=0, comment=\"#\",skipinitialspace=True, usecols=col)\n",
    "            n_min_frame = df.groupby('ID')['FR'].min()[df['ID']].nsmallest(N_del_i).index.values\n",
    "            n_max_frame = df.groupby('ID')['FR'].max()[df['ID']].nlargest(N_del).index.values\n",
    "            #df = df[~df['ID'].isin(n_min_frame)]\n",
    "\n",
    "            df = df[~df['ID'].isin(n_max_frame)]\n",
    "            #framemax = df[\"FR\"].max()\n",
    "            #print(ids)\n",
    "            #print(df_fr)\n",
    "            print(df[\"FR\"].min(),df[\"FR\"].max())\n",
    "            for t in np.arange(10 * fps,df[\"FR\"].max()):\n",
    "                #print(\"T=\",t)\n",
    "                df_t = df[df['FR'] == t]\n",
    "                df_id = df_t['ID'].values\n",
    "                df_int = df_t['IntID'].values\n",
    "                df_new = pd.DataFrame({\"ID\":df_id,\"IntID\":df_int})\n",
    "                np_new = df_new.values\n",
    "                set_new = [set(i) for i in np_new]\n",
    "                truec = np.array([len(list(group)) for key, group in groupby(set_new)]) > 1\n",
    "                truec = truec.sum()\n",
    "                count += truec\n",
    "                incount += df_int.shape[0]\n",
    "                #print(np.array([len(list(group)) for key, group in groupby(set_new)]) > 1 )\n",
    "\n",
    "                #print(df_new.isin(np_new))\n",
    "                #print(df_new)\n",
    "        print(count)\n",
    "        print(incount)\n",
    "        print(count/incount)\n",
    "                \n",
    "                \n",
    "        bi += 1           "
   ]
  },
  {
   "cell_type": "code",
   "execution_count": 169,
   "metadata": {},
   "outputs": [
    {
     "name": "stdout",
     "output_type": "stream",
     "text": [
      "(1, 2, 1, 1)\n",
      "<calculating b = 1.2>\n"
     ]
    },
    {
     "data": {
      "image/png": "[encoded data removed]",
      "text/plain": [
       "<Figure size 864x504 with 1 Axes>"
      ]
     },
     "metadata": {
      "needs_background": "light"
     },
     "output_type": "display_data"
    },
    {
     "name": "stdout",
     "output_type": "stream",
     "text": [
      "counts_mean =  0.02\n",
      "<calculating b = 1.5>\n"
     ]
    },
    {
     "data": {
      "image/png": "[encoded data removed]",
      "text/plain": [
       "<Figure size 864x504 with 1 Axes>"
      ]
     },
     "metadata": {
      "needs_background": "light"
     },
     "output_type": "display_data"
    },
    {
     "name": "stdout",
     "output_type": "stream",
     "text": [
      "counts_mean =  0.04\n"
     ]
    }
   ],
   "source": [
    "N_del = 10\n",
    "col = [\"FR\",\"X\",\"Y\",\"ID\",\"IntID\"]\n",
    "time_cluster_T = []\n",
    "os.system(\"mkdir \" + path + \"plots\")\n",
    "os.system(\"mkdir \" + path + \"plots/graph\")\n",
    "os.system(\"mkdir \" + path + \"graph\")\n",
    "time = np.arange(11 * fps ,11 * fps + 1 ,1)\n",
    "\n",
    "np_cluster_array = np.empty([len(T_test_list),lin_var[test_var].shape[0],N_runs,time.shape[0]])\n",
    "print(np_cluster_array.shape)\n",
    "\n",
    "for T_test, T_i in zip(T_test_list, range(len(T_test_list))):\n",
    "    folder_frame_frac = np.array(folder_frame.loc[folder_frame[test_str2] == T_test]['ini_folder'])\n",
    "    b_folder = np.array(folder_frame.loc[folder_frame[test_str2] == T_test]['b'])\n",
    "    loc_list = [[path + folder + sl + \"new_evac_traj_\" + af.b_data_name(2 * bi, 3) + \"_\" + str(i) + \".txt\" for i in\n",
    "                 range(runs_tested)] for folder, bi in zip(folder_frame_frac, b_folder)]\n",
    "    bi = 0\n",
    "    #count_list = []\n",
    "    #time_cluster = []\n",
    "    for loc_list_runs, var_i in zip(loc_list,range(len(loc_list))):\n",
    "        print(\"<calculating \" + test_str + \" = \" + str(2 * lin_var[test_var][bi]) + \">\")\n",
    "        p0count = 0\n",
    "        count = 0\n",
    "        incount = 0\n",
    "        count_mean = 0\n",
    "        n_count = 50 * time.shape[0]\n",
    "        #node_time = []\n",
    "        for loc, l_i in zip(loc_list_runs[0:1], range(len(loc_list_runs))):\n",
    "            if os.path.isfile(loc) == False:\n",
    "                #print(\"WARNING: file \" + loc + \" not found.\")\n",
    "                continue\n",
    "                \n",
    "            if os.stat(loc).st_size == 0:\n",
    "                #print(\"WARNING: file \" + loc + \" not found.\")\n",
    "                continue\n",
    "            df = pd.read_csv(loc, sep=\"\\s+\", header=0, comment=\"#\",skipinitialspace=True, usecols=col)\n",
    "            #n_min_frame = df.groupby('ID')['FR'].min()[df['ID']].nsmallest(N_del_i).index.values\n",
    "            n_max_frame = df.groupby('ID')['FR'].max()[df['ID']].nlargest(N_del).index.values\n",
    "            #df = df[~df['ID'].isin(n_min_frame)]\n",
    "\n",
    "            df = df[~df['ID'].isin(n_max_frame)]\n",
    "            #df = df[df['Y'] > 0]\n",
    "            df = df[df['X'] * df['X'] + df['Y']* df['Y'] < 1.**2]\n",
    "            #framemax = df[\"FR\"].max()\n",
    "            #print(ids)\n",
    "            #print(df_fr)\n",
    "            #print(df[\"FR\"].min(),df[\"FR\"].max())\n",
    "            #node_time_i = []\n",
    "            for t, t_i in zip(time,range(time.shape[0])):\n",
    "                xpos = []\n",
    "                ypos = []\n",
    "                u = []\n",
    "                v = []\n",
    "                df_t = df[df[\"FR\"] == t]\n",
    "                #print(df_t)\n",
    "                id_list = df_t[\"ID\"].values\n",
    "                int_list = df_t[df_t[\"IntID\"]> 0][\"IntID\"].values\n",
    "                unique, counts = np.unique(int_list, return_counts=True)\n",
    "                #print(counts.mean())\n",
    "                count_mean += counts.mean()\n",
    "                #node_time_i.append(counts.mean())\n",
    "                np_cluster_array[T_i][var_i][l_i][t_i] = counts.mean()\n",
    "                #print(id_list)\n",
    "                for i in id_list:\n",
    "                    df_id = df_t[df_t[\"ID\"] == i]\n",
    "                    x1 = df_id[\"X\"].values[0]\n",
    "                    x2 = df_id[\"Y\"].values[0]\n",
    "                    inter = df_id[\"IntID\"].values[0]\n",
    "                    #print(inter)\n",
    "                    xpos.append([x1])\n",
    "                    ypos.append([x2])\n",
    "                    if inter > 0:\n",
    "                        #print(inter)\n",
    "                        #print(np.isin(inter,id_list))\n",
    "                        df_int = df_t[df_t[\"ID\"] == inter] \n",
    "                        #print(df_int)\n",
    "                        \n",
    "                        if(df_int.values.shape[0] > 0):\n",
    "                            x1int = df_int[\"X\"].values[0]\n",
    "                            x2int = df_int[\"Y\"].values[0]\n",
    "                            u.append(x1int - x1)\n",
    "                            v.append(x2int - x2)\n",
    "                        else:\n",
    "                            u.append(0)\n",
    "                            v.append(0)\n",
    "                    else:\n",
    "                        u.append(0)\n",
    "                        v.append(0)\n",
    "            \n",
    "            fig, ax = plt.subplots(figsize = (12, 7))\n",
    "            plt.scatter(xpos,ypos)\n",
    "            ax.quiver(xpos, ypos, u, v,angles='xy', scale_units='xy',scale = 1)\n",
    "            ax.set_aspect(\"equal\")\n",
    "            ax.axis([-3, 3, -1, 5])\n",
    "            plt.xlabel(\"x/m\")\n",
    "            plt.ylabel(\"y/m\")\n",
    "            add_wall(2,2 * lin_var[test_var][bi])\n",
    "            plt.savefig(path + 'plots/graph/graph_' + af.b_data_name(2 * lin_var[test_var][bi],3) + '.pdf')\n",
    "            #show plot \n",
    "            plt.show() \n",
    "            #node_time.append(node_time_i)\n",
    "        #np_time = np.array(node_time)\n",
    "            \n",
    "        #print(np_time.shape)\n",
    "        #time_cluster.append(np_time.mean(axis=0))\n",
    "        #plt.plot(time/fps,np_cluster_array[T_i][var_i].mean(axis=0),label = \"b = \" + str(2 * lin_var[test_var][bi]))\n",
    "        bi += 1\n",
    "            \n",
    "        print(\"counts_mean = \", count_mean/n_count)\n",
    "    \n",
    "    #np.save(path + \"cluster\" + af.b_data_name(T_test,3) + \".npy\", np_cluster_array)\n",
    "    #count_list.append(count_mean/n_count)\n",
    "    #time_cluster_T.append(time_cluster)\n",
    "    #print(time_cluster_T.shape)\n",
    "    #plt.legend()\n",
    "    #plt.show()\n",
    "    #plt.plot(2 * lin_var[test_var],count_list)\n",
    "                    \n",
    "                            "
   ]
  },
  {
   "cell_type": "code",
   "execution_count": null,
   "metadata": {},
   "outputs": [],
   "source": []
  },
  {
   "cell_type": "code",
   "execution_count": 165,
   "metadata": {},
   "outputs": [
    {
     "name": "stdout",
     "output_type": "stream",
     "text": [
      "(0,)\n",
      "[]\n"
     ]
    },
    {
     "ename": "ValueError",
     "evalue": "x and y must be the same size",
     "output_type": "error",
     "traceback": [
      "\u001b[0;31m---------------------------------------------------------------------\u001b[0m",
      "\u001b[0;31mValueError\u001b[0m                          Traceback (most recent call last)",
      "\u001b[0;32m<ipython-input-165-67a8ff184cd9>\u001b[0m in \u001b[0;36m<module>\u001b[0;34m\u001b[0m\n\u001b[1;32m     14\u001b[0m     \u001b[0mmax_clust\u001b[0m\u001b[0;34m.\u001b[0m\u001b[0mappend\u001b[0m\u001b[0;34m(\u001b[0m\u001b[0mclust\u001b[0m\u001b[0;34m.\u001b[0m\u001b[0mmax\u001b[0m\u001b[0;34m(\u001b[0m\u001b[0;34m)\u001b[0m\u001b[0;34m)\u001b[0m\u001b[0;34m\u001b[0m\u001b[0;34m\u001b[0m\u001b[0m\n\u001b[1;32m     15\u001b[0m \u001b[0mprint\u001b[0m\u001b[0;34m(\u001b[0m\u001b[0mmax_clust\u001b[0m\u001b[0;34m)\u001b[0m\u001b[0;34m\u001b[0m\u001b[0;34m\u001b[0m\u001b[0m\n\u001b[0;32m---> 16\u001b[0;31m \u001b[0mplt\u001b[0m\u001b[0;34m.\u001b[0m\u001b[0mscatter\u001b[0m\u001b[0;34m(\u001b[0m\u001b[0;36m2\u001b[0m \u001b[0;34m*\u001b[0m \u001b[0mlin_var\u001b[0m\u001b[0;34m[\u001b[0m\u001b[0mtest_var\u001b[0m\u001b[0;34m]\u001b[0m\u001b[0;34m,\u001b[0m\u001b[0mmax_clust\u001b[0m\u001b[0;34m)\u001b[0m\u001b[0;34m\u001b[0m\u001b[0;34m\u001b[0m\u001b[0m\n\u001b[0m\u001b[1;32m     17\u001b[0m \u001b[0mnp_time_cluster\u001b[0m\u001b[0;34m.\u001b[0m\u001b[0mmean\u001b[0m\u001b[0;34m(\u001b[0m\u001b[0maxis\u001b[0m \u001b[0;34m=\u001b[0m \u001b[0;36m1\u001b[0m\u001b[0;34m)\u001b[0m\u001b[0;34m[\u001b[0m\u001b[0;36m0\u001b[0m\u001b[0;34m]\u001b[0m\u001b[0;34m.\u001b[0m\u001b[0mmax\u001b[0m\u001b[0;34m(\u001b[0m\u001b[0;34m)\u001b[0m\u001b[0;34m\u001b[0m\u001b[0;34m\u001b[0m\u001b[0m\n\u001b[1;32m     18\u001b[0m \u001b[0;31m#plt.plot(np_time_cluster.mean(axis = 1))\u001b[0m\u001b[0;34m\u001b[0m\u001b[0;34m\u001b[0m\u001b[0;34m\u001b[0m\u001b[0m\n",
      "\u001b[0;32m~/opt/anaconda3/lib/python3.7/site-packages/matplotlib/pyplot.py\u001b[0m in \u001b[0;36mscatter\u001b[0;34m(x, y, s, c, marker, cmap, norm, vmin, vmax, alpha, linewidths, verts, edgecolors, plotnonfinite, data, **kwargs)\u001b[0m\n\u001b[1;32m   2846\u001b[0m         \u001b[0mverts\u001b[0m\u001b[0;34m=\u001b[0m\u001b[0mverts\u001b[0m\u001b[0;34m,\u001b[0m \u001b[0medgecolors\u001b[0m\u001b[0;34m=\u001b[0m\u001b[0medgecolors\u001b[0m\u001b[0;34m,\u001b[0m\u001b[0;34m\u001b[0m\u001b[0;34m\u001b[0m\u001b[0m\n\u001b[1;32m   2847\u001b[0m         plotnonfinite=plotnonfinite, **({\"data\": data} if data is not\n\u001b[0;32m-> 2848\u001b[0;31m         None else {}), **kwargs)\n\u001b[0m\u001b[1;32m   2849\u001b[0m     \u001b[0msci\u001b[0m\u001b[0;34m(\u001b[0m\u001b[0m__ret\u001b[0m\u001b[0;34m)\u001b[0m\u001b[0;34m\u001b[0m\u001b[0;34m\u001b[0m\u001b[0m\n\u001b[1;32m   2850\u001b[0m     \u001b[0;32mreturn\u001b[0m \u001b[0m__ret\u001b[0m\u001b[0;34m\u001b[0m\u001b[0;34m\u001b[0m\u001b[0m\n",
      "\u001b[0;32m~/opt/anaconda3/lib/python3.7/site-packages/matplotlib/__init__.py\u001b[0m in \u001b[0;36minner\u001b[0;34m(ax, data, *args, **kwargs)\u001b[0m\n\u001b[1;32m   1597\u001b[0m     \u001b[0;32mdef\u001b[0m \u001b[0minner\u001b[0m\u001b[0;34m(\u001b[0m\u001b[0max\u001b[0m\u001b[0;34m,\u001b[0m \u001b[0;34m*\u001b[0m\u001b[0margs\u001b[0m\u001b[0;34m,\u001b[0m \u001b[0mdata\u001b[0m\u001b[0;34m=\u001b[0m\u001b[0;32mNone\u001b[0m\u001b[0;34m,\u001b[0m \u001b[0;34m**\u001b[0m\u001b[0mkwargs\u001b[0m\u001b[0;34m)\u001b[0m\u001b[0;34m:\u001b[0m\u001b[0;34m\u001b[0m\u001b[0;34m\u001b[0m\u001b[0m\n\u001b[1;32m   1598\u001b[0m         \u001b[0;32mif\u001b[0m \u001b[0mdata\u001b[0m \u001b[0;32mis\u001b[0m \u001b[0;32mNone\u001b[0m\u001b[0;34m:\u001b[0m\u001b[0;34m\u001b[0m\u001b[0;34m\u001b[0m\u001b[0m\n\u001b[0;32m-> 1599\u001b[0;31m             \u001b[0;32mreturn\u001b[0m \u001b[0mfunc\u001b[0m\u001b[0;34m(\u001b[0m\u001b[0max\u001b[0m\u001b[0;34m,\u001b[0m \u001b[0;34m*\u001b[0m\u001b[0mmap\u001b[0m\u001b[0;34m(\u001b[0m\u001b[0msanitize_sequence\u001b[0m\u001b[0;34m,\u001b[0m \u001b[0margs\u001b[0m\u001b[0;34m)\u001b[0m\u001b[0;34m,\u001b[0m \u001b[0;34m**\u001b[0m\u001b[0mkwargs\u001b[0m\u001b[0;34m)\u001b[0m\u001b[0;34m\u001b[0m\u001b[0;34m\u001b[0m\u001b[0m\n\u001b[0m\u001b[1;32m   1600\u001b[0m \u001b[0;34m\u001b[0m\u001b[0m\n\u001b[1;32m   1601\u001b[0m         \u001b[0mbound\u001b[0m \u001b[0;34m=\u001b[0m \u001b[0mnew_sig\u001b[0m\u001b[0;34m.\u001b[0m\u001b[0mbind\u001b[0m\u001b[0;34m(\u001b[0m\u001b[0max\u001b[0m\u001b[0;34m,\u001b[0m \u001b[0;34m*\u001b[0m\u001b[0margs\u001b[0m\u001b[0;34m,\u001b[0m \u001b[0;34m**\u001b[0m\u001b[0mkwargs\u001b[0m\u001b[0;34m)\u001b[0m\u001b[0;34m\u001b[0m\u001b[0;34m\u001b[0m\u001b[0m\n",
      "\u001b[0;32m~/opt/anaconda3/lib/python3.7/site-packages/matplotlib/axes/_axes.py\u001b[0m in \u001b[0;36mscatter\u001b[0;34m(self, x, y, s, c, marker, cmap, norm, vmin, vmax, alpha, linewidths, verts, edgecolors, plotnonfinite, **kwargs)\u001b[0m\n\u001b[1;32m   4441\u001b[0m         \u001b[0my\u001b[0m \u001b[0;34m=\u001b[0m \u001b[0mnp\u001b[0m\u001b[0;34m.\u001b[0m\u001b[0mma\u001b[0m\u001b[0;34m.\u001b[0m\u001b[0mravel\u001b[0m\u001b[0;34m(\u001b[0m\u001b[0my\u001b[0m\u001b[0;34m)\u001b[0m\u001b[0;34m\u001b[0m\u001b[0;34m\u001b[0m\u001b[0m\n\u001b[1;32m   4442\u001b[0m         \u001b[0;32mif\u001b[0m \u001b[0mx\u001b[0m\u001b[0;34m.\u001b[0m\u001b[0msize\u001b[0m \u001b[0;34m!=\u001b[0m \u001b[0my\u001b[0m\u001b[0;34m.\u001b[0m\u001b[0msize\u001b[0m\u001b[0;34m:\u001b[0m\u001b[0;34m\u001b[0m\u001b[0;34m\u001b[0m\u001b[0m\n\u001b[0;32m-> 4443\u001b[0;31m             \u001b[0;32mraise\u001b[0m \u001b[0mValueError\u001b[0m\u001b[0;34m(\u001b[0m\u001b[0;34m\"x and y must be the same size\"\u001b[0m\u001b[0;34m)\u001b[0m\u001b[0;34m\u001b[0m\u001b[0;34m\u001b[0m\u001b[0m\n\u001b[0m\u001b[1;32m   4444\u001b[0m \u001b[0;34m\u001b[0m\u001b[0m\n\u001b[1;32m   4445\u001b[0m         \u001b[0;32mif\u001b[0m \u001b[0ms\u001b[0m \u001b[0;32mis\u001b[0m \u001b[0;32mNone\u001b[0m\u001b[0;34m:\u001b[0m\u001b[0;34m\u001b[0m\u001b[0;34m\u001b[0m\u001b[0m\n",
      "\u001b[0;31mValueError\u001b[0m: x and y must be the same size"
     ]
    },
    {
     "data": {
      "image/png": "[encoded data removed]",
      "text/plain": [
       "<Figure size 432x288 with 1 Axes>"
      ]
     },
     "metadata": {
      "needs_background": "light"
     },
     "output_type": "display_data"
    }
   ],
   "source": [
    "plt.show()\n",
    "np_time_cluster = np.array(time_cluster_T)\n",
    "print(np_time_cluster.shape)\n",
    "#print(np_time_cluster)\n",
    "max_clust = []\n",
    "#print(np_time_cluster.shape)\n",
    "#print(np_time_cluster)\n",
    "for clust in np_time_cluster:\n",
    "    #print(clust.shape)\n",
    "    #print(clust)\n",
    "    ##print(clust)\n",
    "   # print(\"a\")\n",
    "    #print(clust.max())\n",
    "    max_clust.append(clust.max())\n",
    "print(max_clust)\n",
    "plt.scatter(2 * lin_var[test_var],max_clust)\n",
    "np_time_cluster.mean(axis = 1)[0].max()\n",
    "#plt.plot(np_time_cluster.mean(axis = 1))"
   ]
  },
  {
   "cell_type": "code",
   "execution_count": 175,
   "metadata": {},
   "outputs": [
    {
     "name": "stdout",
     "output_type": "stream",
     "text": [
      "(1, 2, 1, 1441)\n",
      "<calculating b = 1.2>\n",
      "<calculating b = 1.5>\n",
      "[] [-2.03673204e-04 -7.63169385e-01] [] [ 0.99999998 -0.64619849]\n"
     ]
    },
    {
     "ename": "ValueError",
     "evalue": "operands could not be broadcast together with shapes (0,) (2,) ",
     "output_type": "error",
     "traceback": [
      "\u001b[0;31m---------------------------------------------------------------------\u001b[0m",
      "\u001b[0;31mValueError\u001b[0m                          Traceback (most recent call last)",
      "\u001b[0;32m<ipython-input-175-75bcb3c74ea4>\u001b[0m in \u001b[0;36m<module>\u001b[0;34m\u001b[0m\n\u001b[1;32m     75\u001b[0m                         \u001b[0mfig\u001b[0m\u001b[0;34m,\u001b[0m \u001b[0max\u001b[0m \u001b[0;34m=\u001b[0m \u001b[0mplt\u001b[0m\u001b[0;34m.\u001b[0m\u001b[0msubplots\u001b[0m\u001b[0;34m(\u001b[0m\u001b[0mfigsize\u001b[0m \u001b[0;34m=\u001b[0m \u001b[0;34m(\u001b[0m\u001b[0;36m12\u001b[0m\u001b[0;34m,\u001b[0m \u001b[0;36m7\u001b[0m\u001b[0;34m)\u001b[0m\u001b[0;34m)\u001b[0m\u001b[0;34m\u001b[0m\u001b[0;34m\u001b[0m\u001b[0m\n\u001b[1;32m     76\u001b[0m                         \u001b[0mprint\u001b[0m\u001b[0;34m(\u001b[0m\u001b[0mx_dir\u001b[0m\u001b[0;34m,\u001b[0m\u001b[0mx_dirint\u001b[0m\u001b[0;34m,\u001b[0m\u001b[0my_dir\u001b[0m\u001b[0;34m,\u001b[0m\u001b[0my_dirint\u001b[0m\u001b[0;34m)\u001b[0m\u001b[0;34m\u001b[0m\u001b[0;34m\u001b[0m\u001b[0m\n\u001b[0;32m---> 77\u001b[0;31m                         \u001b[0mprint\u001b[0m\u001b[0;34m(\u001b[0m\u001b[0mx_dir\u001b[0m \u001b[0;34m*\u001b[0m \u001b[0mx_dirint\u001b[0m \u001b[0;34m+\u001b[0m \u001b[0my_dir\u001b[0m\u001b[0;34m*\u001b[0m\u001b[0my_dirint\u001b[0m\u001b[0;34m)\u001b[0m\u001b[0;34m\u001b[0m\u001b[0;34m\u001b[0m\u001b[0m\n\u001b[0m\u001b[1;32m     78\u001b[0m                         \u001b[0mprint\u001b[0m\u001b[0;34m(\u001b[0m\u001b[0mdf_int\u001b[0m\u001b[0;34m)\u001b[0m\u001b[0;34m\u001b[0m\u001b[0;34m\u001b[0m\u001b[0m\n\u001b[1;32m     79\u001b[0m                         \u001b[0mprint\u001b[0m\u001b[0;34m(\u001b[0m\u001b[0mdf_id\u001b[0m\u001b[0;34m)\u001b[0m\u001b[0;34m\u001b[0m\u001b[0;34m\u001b[0m\u001b[0m\n",
      "\u001b[0;31mValueError\u001b[0m: operands could not be broadcast together with shapes (0,) (2,) "
     ]
    },
    {
     "data": {
      "image/png": "[encoded data removed]",
      "text/plain": [
       "<Figure size 864x504 with 1 Axes>"
      ]
     },
     "metadata": {
      "needs_background": "light"
     },
     "output_type": "display_data"
    }
   ],
   "source": [
    "N_del = 10\n",
    "import matplotlib as mpl\n",
    "\n",
    "col = [\"FR\",\"X\",\"Y\",\"ID\",\"IntID\",\"AngleDirNn\",\"ANGLE_int_nn\"]\n",
    "time_cluster_T = []\n",
    "\n",
    "time = np.arange(10 * fps ,100 * fps + 1 ,1)\n",
    "\n",
    "np_cluster_array = np.empty([len(T_test_list),lin_var[test_var].shape[0],N_runs,time.shape[0]])\n",
    "print(np_cluster_array.shape)\n",
    "\n",
    "for T_test, T_i in zip(T_test_list, range(len(T_test_list))):\n",
    "    folder_frame_frac = np.array(folder_frame.loc[folder_frame[test_str2] == T_test]['ini_folder'])\n",
    "    b_folder = np.array(folder_frame.loc[folder_frame[test_str2] == T_test]['b'])\n",
    "    loc_list = [[path + folder + sl + \"new_evac_traj_\" + af.b_data_name(2 * bi, 3) + \"_\" + str(i) + \".txt\" for i in\n",
    "                 range(runs_tested)] for folder, bi in zip(folder_frame_frac, b_folder)]\n",
    "    bi = 0\n",
    "    #count_list = []\n",
    "    #time_cluster = []\n",
    "    for loc_list_runs, var_i in zip(loc_list,range(len(loc_list))):\n",
    "        print(\"<calculating \" + test_str + \" = \" + str(2 * lin_var[test_var][bi]) + \">\")\n",
    "\n",
    "        #node_time = []\n",
    "        for loc, l_i in zip(loc_list_runs[0:1], range(len(loc_list_runs))):\n",
    "            if os.path.isfile(loc) == False:\n",
    "                #print(\"WARNING: file \" + loc + \" not found.\")\n",
    "                continue\n",
    "                \n",
    "            if os.stat(loc).st_size == 0:\n",
    "                #print(\"WARNING: file \" + loc + \" not found.\")\n",
    "                continue\n",
    "            df = pd.read_csv(loc, sep=\"\\s+\", header=0, comment=\"#\",skipinitialspace=True, usecols=col)\n",
    "            n_max_frame = df.groupby('ID')['FR'].max()[df['ID']].nlargest(N_del).index.values\n",
    "\n",
    "            df = df[~df['ID'].isin(n_max_frame)]\n",
    "            df = df[df['IntID']>0]\n",
    "           \n",
    "            df = df[df['Y']>0]\n",
    "            df = df[df['X'] * df['X'] + df['Y']* df['Y'] < 1.**2]\n",
    "            #df = df[df[\"FR\"]>10 * fps]\n",
    "            framemax = df[\"FR\"].max()\n",
    "            framemin = df[\"FR\"].min()\n",
    "            #time = np.arange(framemin,framemax)\n",
    "            time = np.arange(11 * fps, 20 * fps + 1)\n",
    "            #print(time)\n",
    "            \n",
    "            scalarprod = np.empty(0)\n",
    "            angles = np.empty(0)\n",
    "            for t, t_i in zip(time,range(time.shape[0])):\n",
    "                \n",
    "                df_t = df[df[\"FR\"] == t]\n",
    "\n",
    "                #print(df_t)\n",
    "                ids = df_t['ID'].values\n",
    "                #fig, ax = plt.subplots(figsize = (12, 7))\n",
    "                \n",
    "                for ID in ids:\n",
    "                    df_int = df_t[df_t[\"IntID\"] == ID]\n",
    "                    #print(df_t.groupby(\"IntID\")[df_t[\"ID\"]])\n",
    "                    #id_list = df_[\"ID\"].values\n",
    "\n",
    "                    #int_list = df_int[df_t[\"IntID\"]> 0][\"IntID\"].values\n",
    "                    dirphi = df_int[\"AngleDirNn\"].values\n",
    "                    x_dir = np.cos(dirphi)\n",
    "                    y_dir = np.sin(dirphi)\n",
    "                    dirphi = df_int[\"AngleDirNn\"].values\n",
    "                    x_dirint = np.cos(dirphi)\n",
    "                    y_dirint = np.sin(dirphi)\n",
    "                    df_id = df_t[df_t[\"ID\"] == ID]\n",
    "                    scalarproduct = df_int[\"ANGLE_int_nn\"].values\n",
    "                    x_pos = df_int[\"X\"].values\n",
    "                    y_pos = df_int[\"Y\"].values\n",
    "                    if 0. in scalarproduct:\n",
    "                        \n",
    "                    \n",
    "                        fig, ax = plt.subplots(figsize = (12, 7))\n",
    "                        print(x_dir,x_dirint,y_dir,y_dirint)\n",
    "                        print(x_dir * x_dirint + y_dir*y_dirint)\n",
    "                        print(df_int)\n",
    "                        print(df_id)\n",
    "                        x_pos = df_int[\"X\"].values\n",
    "                        y_pos = df_int[\"Y\"].values\n",
    "                        x_dir = np.cos(df_id[\"AngleDirNn\"].values)\n",
    "                        y_dir = np.sin(df_id[\"AngleDirNn\"].values)\n",
    "                        x_id = df_id['X'].values\n",
    "                        y_id = df_id['Y'].values\n",
    "                        for sc in scalarproduct:\n",
    "                            circle = plt.Circle((x_pos, y_pos), 0.175)\n",
    "                            ax.add_artist(circle)\n",
    "                        circle = plt.Circle((x_id, y_id), 0.175,color = \"r\")\n",
    "                        ax.add_artist(circle)\n",
    "                        #print(x_pos)\n",
    "                        plt.scatter(x_pos,y_pos)\n",
    "                        ax.quiver(x_pos, y_pos, x_dirint, y_dirint,angles='xy', scale_units='xy',scale = 1)\n",
    "                        plt.scatter(x_id,y_id)\n",
    "\n",
    "                        ax.quiver(x_id, y_id, x_dir, y_dir,angles='xy', scale_units='xy',scale = 1)\n",
    "\n",
    "                        ax.set_aspect(\"equal\")\n",
    "                        ax.axis([-3, 3, -1, 5])\n",
    "                        plt.xlabel(\"x/m\")\n",
    "                        plt.ylabel(\"y/m\")\n",
    "                        add_wall(2,2 * lin_var[test_var][bi])\n",
    "                        plt.show()\n",
    "                            \n",
    "                    #x_dir = np.cos(df_id[\"AngleDirNn\"].values)\n",
    "                    #y_dir = np.sin(df_id[\"AngleDirNn\"].values)\n",
    "                    #scp = df_id[\"ANGLE_int_nn\"]\n",
    "                    #angledir = df_int[\"ANGLE_int_nn\"].values\n",
    "                    #scprod = np.arccos(x_dir * x_dirint + y_dir*y_dirint) * 180/3.1415\n",
    "                    \n",
    "                    #print((np.arccos(angledir) * 180/3.1415 , scprod) )\n",
    "                    #print(np.arccos(x_dir * x_dirint + y_dir*y_dirint) * 180/3.1415)\n",
    "                    #scalarprod = np.append(scalarprod,np.arccos(x_dir * x_dirint + y_dir*y_dirint) * 180/3.1415)\n",
    "                    #angles = np.append(angles,np.arccos(angledir) * 180/3.1415)\n",
    "                    #print(scalarprod)\n",
    "                    \n",
    "                    #print(x_pos)\n",
    "                    \"\"\"plt.scatter(x_pos,y_pos)\n",
    "                    ax.quiver(x_pos, y_pos, x_dirint, y_dirint,angles='xy', scale_units='xy',scale = 1)\n",
    "                    ax.set_aspect(\"equal\")\n",
    "                    ax.axis([-3, 3, -1, 5])\n",
    "                    plt.xlabel(\"x/m\")\n",
    "                    plt.ylabel(\"y/m\")\n",
    "                    add_wall(2,2 * lin_var[test_var][bi])\n",
    "                plt.show() \"\"\"\n",
    "            bi += 1\n",
    "\n",
    "        #plt.hist(scalarprod,bins = 50,density = True)\n",
    "        #plt.hist(angles,bins=50,density = True)\n",
    "                \n"
   ]
  },
  {
   "cell_type": "code",
   "execution_count": 171,
   "metadata": {},
   "outputs": [
    {
     "name": "stdout",
     "output_type": "stream",
     "text": [
      "<calculating b = 1.2>\n",
      "0\n"
     ]
    },
    {
     "data": {
      "image/png": "[encoded data removed]",
      "text/plain": [
       "<Figure size 432x288 with 1 Axes>"
      ]
     },
     "metadata": {
      "needs_background": "light"
     },
     "output_type": "display_data"
    },
    {
     "data": {
      "image/png": "[encoded data removed]",
      "text/plain": [
       "<Figure size 432x288 with 1 Axes>"
      ]
     },
     "metadata": {
      "needs_background": "light"
     },
     "output_type": "display_data"
    },
    {
     "data": {
      "image/png": "[encoded data removed]",
      "text/plain": [
       "<Figure size 432x288 with 1 Axes>"
      ]
     },
     "metadata": {
      "needs_background": "light"
     },
     "output_type": "display_data"
    },
    {
     "name": "stdout",
     "output_type": "stream",
     "text": [
      "0.28840892728581713\n",
      "43.32231782479011\n",
      "<calculating b = 1.5>\n",
      "1\n"
     ]
    },
    {
     "data": {
      "image/png": "[encoded data removed]",
      "text/plain": [
       "<Figure size 432x288 with 1 Axes>"
      ]
     },
     "metadata": {
      "needs_background": "light"
     },
     "output_type": "display_data"
    },
    {
     "data": {
      "image/png": "[encoded data removed]",
      "text/plain": [
       "<Figure size 432x288 with 1 Axes>"
      ]
     },
     "metadata": {
      "needs_background": "light"
     },
     "output_type": "display_data"
    },
    {
     "data": {
      "image/png": "[encoded data removed]",
      "text/plain": [
       "<Figure size 432x288 with 1 Axes>"
      ]
     },
     "metadata": {
      "needs_background": "light"
     },
     "output_type": "display_data"
    },
    {
     "name": "stdout",
     "output_type": "stream",
     "text": [
      "0.19160377358490568\n",
      "70.95284636248756\n"
     ]
    }
   ],
   "source": [
    "col = [\"FR\",\"X\",\"Y\",\"ID\",\"speed_nn\",\"ANGLE_int_nn\"]\n",
    "blist = 2 * lin_var[test_var]\n",
    "v_0_list = []\n",
    "resultfolder = \"distributions/\"\n",
    "os.system(\"mkdir \" + path  + resultfolder)\n",
    "os.system(\"mkdir \" + path  + \"plots\")\n",
    "os.system(\"mkdir \" + path  + \"plots/angledist\")\n",
    "os.system(\"mkdir \" + path  + \"plots/speeddist\")\n",
    "\n",
    "folderlist = []\n",
    "for T_test in T_test_list:\n",
    "    folder_frame_frac = np.array(folder_frame.loc[folder_frame[test_str2] == T_test]['ini_folder'])\n",
    "    b_folder = np.array(folder_frame.loc[folder_frame[test_str2] == T_test]['b'])\n",
    "\n",
    "    loc_list = [[path + folder + sl + \"new_evac_traj_\" + af.b_data_name(2 * bi, 3) + \"_\" + str(i) + \".txt\" for i in\n",
    "                 range(runs_tested)] for folder, bi in zip(folder_frame_frac, b_folder)]\n",
    "    bi = 0\n",
    "    \n",
    "    v_0_mean = np.empty(blist.shape[0])\n",
    "    v_0_var = np.empty(blist.shape[0])\n",
    "    angle_nn_var = np.empty(blist.shape[0])\n",
    "    angle_nn_mean = np.empty(blist.shape[0])\n",
    "    for loc_list_runs in loc_list:\n",
    "        print(\"<calculating \" + test_str + \" = \" + str(2 * lin_var[test_var][bi]) + \">\")\n",
    "        v_nn_mean = np.empty(0)\n",
    "        angle_nn = np.empty(0)\n",
    "        p0count = 0\n",
    "        for loc in loc_list_runs:\n",
    "            if os.path.isfile(loc) == False:\n",
    "                #print(\"WARNING: file \" + loc + \" not found.\")\n",
    "                continue\n",
    "            df = pd.read_csv(loc, sep=\"\\s+\", header=0, comment=\"#\",skipinitialspace=True, usecols=col)\n",
    "            #df['ANGLE_int_nn'] = df['ANGLE_int_nn'].values.astype(np.float)\n",
    "            df = df[df['FR'] > 10 * fps]\n",
    "            df = df[df['ANGLE_int_nn'].values.astype(np.float) >= -1.0]\n",
    "            df = df[df['speed_nn'].values.astype(np.float) >= 0.0]\n",
    "            df = df[df['speed_nn'].values.astype(np.float) < 1.34]\n",
    "            p0 = df.groupby('FR')['speed_nn'].max()\n",
    "            p0 = p0[p0.values < 0.1].values.shape[0]\n",
    "            #print(p0)\n",
    "            if p0 > 0:\n",
    "                p0count += 1\n",
    "            \n",
    "            #print(p0)\n",
    "            #df = df[df['FR'] > fps * 10]\n",
    "            df = df[df['Y'] > 0]\n",
    "            df = df[df['X'] * df['X'] + df['Y']* df['Y'] < 1.**2]\n",
    "            v_nn_mean = np.append(v_nn_mean,df['speed_nn'].values.astype(np.float))  \n",
    "            #df = df[abs(df['X']) < 0.5]\n",
    "            #df = df[df['Y'] > 1]\n",
    "\n",
    "            #df = df[df['Y'] < 1]\n",
    "\n",
    "            angle_nn = np.append(angle_nn,np.arccos(df['ANGLE_int_nn'].values.astype(np.float))*180./3.1415)\n",
    "        print(p0count)\n",
    "        #plt.hist(v_nn_mean,bins=50)\n",
    "        #plt.show()\n",
    "        df_anal = pd.DataFrame({\"angle\":angle_nn,\"speed\" : v_nn_mean})\n",
    "        dat_name = path + resultfolder + \"dist_\" + af.b_data_name(2 * lin_var[test_var][bi],3) + \".csv\"\n",
    "        df_anal.to_csv(dat_name)\n",
    "        x, bins, p= plt.hist(angle_nn,bins=18,density=True)\n",
    "        plt.savefig(path + 'plots/angledist/angle_' + af.b_data_name(2 * lin_var[test_var][bi], 3) + '.png')\n",
    "        plt.show()\n",
    "\n",
    "        x, bins, p =plt.hist(v_nn_mean,bins = 18,density=True)\n",
    "        plt.savefig(path + 'plots/speeddist/speed_' + af.b_data_name(2 * lin_var[test_var][bi], 3) + '.png')\n",
    "\n",
    "        plt.show()\n",
    "\n",
    "        nphist = np.histogram(v_nn_mean,bins=18,density = True)\n",
    "        #plt.plot(nphist[1][:-1],np.log(-np.log(1-nphist[0])), marker = \"o\", linestyle='none')\n",
    "        plt.plot(nphist[1][:-1],nphist[0], marker = \"o\", linestyle='none')\n",
    "        #plt.xscale(\"log\")\n",
    "        #plt.yscale(\"log\")\n",
    "        plt.show()\n",
    "        #print(v_nn_mean)\n",
    "        v_0_list.append(v_nn_mean.mean())\n",
    "        v_0_mean[bi] = v_nn_mean.mean()\n",
    "        v_0_var[bi] = v_nn_mean.std()\n",
    "        print(v_nn_mean.mean())\n",
    "        angle_nn_mean[bi] = angle_nn.mean()\n",
    "        angle_nn_var[bi] = angle_nn.std()\n",
    "\n",
    "        print(angle_nn.mean())\n",
    "        bi += 1\n",
    "        #print(v_nn_mean.mean())\n"
   ]
  },
  {
   "cell_type": "code",
   "execution_count": 72,
   "metadata": {},
   "outputs": [
    {
     "data": {
      "image/png": "[encoded data removed]",
      "text/plain": [
       "<Figure size 432x288 with 1 Axes>"
      ]
     },
     "metadata": {
      "needs_background": "light"
     },
     "output_type": "display_data"
    },
    {
     "data": {
      "image/png": "[encoded data removed]",
      "text/plain": [
       "<Figure size 432x288 with 1 Axes>"
      ]
     },
     "metadata": {
      "needs_background": "light"
     },
     "output_type": "display_data"
    },
    {
     "data": {
      "image/png": "[encoded data removed]",
      "text/plain": [
       "<Figure size 432x288 with 1 Axes>"
      ]
     },
     "metadata": {
      "needs_background": "light"
     },
     "output_type": "display_data"
    },
    {
     "data": {
      "image/png": "[encoded data removed]",
      "text/plain": [
       "<Figure size 432x288 with 1 Axes>"
      ]
     },
     "metadata": {
      "needs_background": "light"
     },
     "output_type": "display_data"
    },
    {
     "data": {
      "image/png": "[encoded data removed]",
      "text/plain": [
       "<Figure size 432x288 with 1 Axes>"
      ]
     },
     "metadata": {
      "needs_background": "light"
     },
     "output_type": "display_data"
    }
   ],
   "source": [
    "#plt.yscale(\"exp\")\n",
    "#plt.xscale(\"log\")\n",
    "plt.scatter(blist,1/v_0_mean)\n",
    "\n",
    "plt.show()\n",
    "\n",
    "plt.scatter(blist,v_0_var)\n",
    "plt.show()\n",
    "plt.scatter(blist,angle_nn_mean)\n",
    "plt.show()\n",
    "\n",
    "plt.scatter(blist,angle_nn_var)\n",
    "plt.show()\n",
    "\n",
    "plt.scatter(angle_nn_mean,v_0_mean)\n",
    "\n",
    "plt.show()\n"
   ]
  },
  {
   "cell_type": "code",
   "execution_count": 45,
   "metadata": {},
   "outputs": [
    {
     "name": "stdout",
     "output_type": "stream",
     "text": [
      "<calculating b = 0.55>\n"
     ]
    },
    {
     "name": "stderr",
     "output_type": "stream",
     "text": [
      "/Users/jonas/opt/anaconda3/lib/python3.7/site-packages/ipykernel_launcher.py:41: RuntimeWarning: divide by zero encountered in true_divide\n"
     ]
    },
    {
     "name": "stdout",
     "output_type": "stream",
     "text": [
      "</calculating b = 0.55>\n"
     ]
    },
    {
     "data": {
      "image/png": "[encoded data removed]",
      "text/plain": [
       "<Figure size 432x288 with 1 Axes>"
      ]
     },
     "metadata": {
      "needs_background": "light"
     },
     "output_type": "display_data"
    }
   ],
   "source": [
    "col = [\"FR\",\"X\",\"Y\",\"ID\"]\n",
    "t_array = np.arange(t_start, 100 * fps, int(fps/2 ))#\n",
    "for T_test in T_test_list[0:1]:\n",
    "    folder_frame_frac = np.array(folder_frame.loc[folder_frame[test_str2] == T_test]['ini_folder'])\n",
    "    b_folder = np.array(folder_frame.loc[folder_frame[test_str2] == T_test]['b'])\n",
    "\n",
    "    loc_list = [[path + folder + sl + \"new_evac_traj_\" + af.b_data_name(2 * bi, 3) + \"_\" + str(i) + \".txt\" for i in\n",
    "                 range(runs_tested)] for folder, bi in zip(folder_frame_frac, b_folder)]\n",
    "    bi = 0\n",
    "    ttt_arr = np.empty(0)\n",
    "    dist_arr = np.empty(0)\n",
    "    angle_arr = np.empty(0)\n",
    "    x_ar = np.empty(0)\n",
    "    y_ar = np.empty(0)\n",
    "    for loc_list_runs in loc_list[-2:-1]:\n",
    "        print(\"<calculating \" + test_str + \" = \" + str(lin_var[test_var][bi]) + \">\")\n",
    "\n",
    "        for loc in loc_list_runs:\n",
    "            df = pd.read_csv(loc, sep=\"\\s+\", header=0, comment=\"#\",skipinitialspace=True, usecols=col)\n",
    "            min_value = df.groupby('ID')['Y'].min()[df['ID']][0:N_ped - 1]\n",
    "            #n_max_frame = df.groupby('ID')['FR'].max()[df['ID']][0:N_ped - 1].nlargest(12).index.values\n",
    "            #print(n_max_frame)\n",
    "            min_value = min_value[min_value < -0.2]\n",
    "            key_filtered = min_value.keys().values\n",
    "            \n",
    "            df = df[df['ID'].isin(key_filtered)]\n",
    "            df = df[df['Y'] > 0.]\n",
    "            df = df[~df['ID'].isin(n_max_frame)]\n",
    "            \n",
    "            max_frame = df.groupby('ID')['FR'].max()[df['ID']]\n",
    "            #print(max_frame.groupby('ID').nlargest(1))\n",
    "            df['max_frame'] = max_frame.values\n",
    "            df = df[df['FR'].isin(t_array)]\n",
    "\n",
    "            #print(max_frame)\n",
    "\n",
    "\n",
    "            x = df['X'].values\n",
    "            y = df['Y'].values\n",
    "            #dist_ttt = np.round(dist(-0.4, 0., 0.4, 0., x, y),2)\n",
    "            dist_ttt = np.round(np.sqrt( x * x + y * y),1)\n",
    "            angle_ttt = np.round(np.arctan(y/x),1)\n",
    "            ttt = df['max_frame'].values - df['FR'].values\n",
    "            ttt_arr = np.append(ttt_arr,ttt)\n",
    "            dist_arr = np.append(dist_arr,dist_ttt)\n",
    "            angle_arr = np.append(angle_arr,angle_ttt)\n",
    "            x_ar = np.append(x_ar,x)\n",
    "            y_ar = np.append(y_ar,y)\n",
    "        print(\"</calculating \" + test_str + \" = \" + str(lin_var[test_var][bi]) + \">\")\n",
    "        #print(dist_ttt.shape)\n",
    "        #print(ttt.shape)\n",
    "        #print(np.array(ttt_arr))\n",
    "        df_plot = pd.DataFrame({\"ttt\" :  ttt_arr  / fps,\"angle\":angle_arr, \"dist\": dist_arr,\"x\":x_ar,\"y\":y_ar })\n",
    "        #plt.plot(dist_arr,ttt_arr/fps,marker = \"o\",linestyle='none')\n",
    "        #print(df_plot)\n",
    "        #print(df_plot)\n",
    "        bi += 1\n",
    "        df_mean = df_plot[df_plot[\"dist\"] < 1.2]\n",
    "        df_mean = df_mean[df_mean[\"dist\"] > 1.0]\n",
    "\n",
    "        df_mean = df_mean.groupby(\"angle\").mean()\n",
    "        #print(df_mean)\n",
    "        plt.plot(df_mean.index,df_mean[\"ttt\"],marker = \"o\",linestyle='none')\n",
    "        #plt.xscale('log')\n",
    "        #plt.yscale('log')\n",
    "        plt.show()\n",
    "        #plt.plot(df_plot[\"dist\"].values, ttt_mean_list,marker = \"o\",linestyle='none')\n",
    "   # plt.show()\n"
   ]
  },
  {
   "cell_type": "code",
   "execution_count": 35,
   "metadata": {},
   "outputs": [
    {
     "data": {
      "text/plain": [
       "'theta = df_plot[\\'angle\\'].values\\nr = df_plot[\\'dist\\'].values\\nttt = df_plot[\\'ttt\\'].values\\n\\nx_arr = r * np.cos(theta)\\ny_arr = r * np.sin(theta)\\n\\nx, y = np.meshgrid(x_arr, y_arr)\\nttt_mesh = np.meshgrid(ttt,ttt)\\nz = ttt_mesh[:-1, :-1].flatten()\\n\\nz_min, z_max = np.abs(z).min(), np.abs(z).max()\\nfig, ax = plt.subplots()\\nc = ax.pcolormesh(x, y, z, cmap=\\'hot\\', vmin=z_min, vmax=12, label=\"density in [m^-2]\")\\n# set the limits of the plot to the limits of the data\\nax.axis([x.min(), x.max(), y.min(), y.max()])\\nfig.colorbar(c, ax=ax, label=\"$\\\\rho$ in [$m^{-2}$]\")\\nprint(z.mean())\\nprint(\"corridor width = \", bi)\\nif bi == 1.7 or bi == 1.2:\\n    print(\"density jump\")\\nline_width = 2.5\\nadd_wall(line_width,bi*2)\\nname_var = lin_var[test_var][test_var_count]\\ntest_var_count += 1'"
      ]
     },
     "execution_count": 35,
     "metadata": {},
     "output_type": "execute_result"
    }
   ],
   "source": [
    "\"\"\"theta = df_plot['angle'].values\n",
    "r = df_plot['dist'].values\n",
    "ttt = df_plot['ttt'].values\n",
    "\n",
    "x_arr = r * np.cos(theta)\n",
    "y_arr = r * np.sin(theta)\n",
    "\n",
    "x, y = np.meshgrid(x_arr, y_arr)\n",
    "ttt_mesh = np.meshgrid(ttt,ttt)\n",
    "z = ttt_mesh[:-1, :-1].flatten()\n",
    "\n",
    "z_min, z_max = np.abs(z).min(), np.abs(z).max()\n",
    "fig, ax = plt.subplots()\n",
    "c = ax.pcolormesh(x, y, z, cmap='hot', vmin=z_min, vmax=12, label=\"density in [m^-2]\")\n",
    "# set the limits of the plot to the limits of the data\n",
    "ax.axis([x.min(), x.max(), y.min(), y.max()])\n",
    "fig.colorbar(c, ax=ax, label=\"$\\\\rho$ in [$m^{-2}$]\")\n",
    "print(z.mean())\n",
    "print(\"corridor width = \", bi)\n",
    "if bi == 1.7 or bi == 1.2:\n",
    "    print(\"density jump\")\n",
    "line_width = 2.5\n",
    "add_wall(line_width,bi*2)\n",
    "name_var = lin_var[test_var][test_var_count]\n",
    "test_var_count += 1\"\"\""
   ]
  },
  {
   "cell_type": "code",
   "execution_count": 36,
   "metadata": {},
   "outputs": [
    {
     "data": {
      "text/plain": [
       "'df_plot[\\'x\\']= np.round(x_arr,1)\\ndf_plot[\\'y\\']= np.round(y_arr,1)\\ndf_heat = pd.DataFrame({\"x\":np.round(x_arr,1),\"y\":np.round(y_arr,1),\"ttt\":ttt_arr/fps})'"
      ]
     },
     "execution_count": 36,
     "metadata": {},
     "output_type": "execute_result"
    }
   ],
   "source": [
    "\"\"\"df_plot['x']= np.round(x_arr,1)\n",
    "df_plot['y']= np.round(y_arr,1)\n",
    "df_heat = pd.DataFrame({\"x\":np.round(x_arr,1),\"y\":np.round(y_arr,1),\"ttt\":ttt_arr/fps})\"\"\""
   ]
  },
  {
   "cell_type": "code",
   "execution_count": 46,
   "metadata": {},
   "outputs": [],
   "source": [
    "x_arr = np.round(np.arange(-3.5,3.5,0.1),1)\n",
    "y_arr = np.round(np.arange(0,10,0.1),1)\n"
   ]
  },
  {
   "cell_type": "code",
   "execution_count": 56,
   "metadata": {},
   "outputs": [],
   "source": [
    "ttt_arr = np.zeros([y_arr.shape[0],x_arr.shape[0]])\n",
    "df_plot2 = df_plot\n",
    "df_plot2['x'] = np.round(df_plot2['x'].values,1)\n",
    "df_plot2['y'] = np.round(df_plot2['y'].values,1)\n",
    "\n",
    "x_i = 0\n",
    "for x in x_arr:\n",
    "    y_i = 0\n",
    "    for y in y_arr:\n",
    "        x_bool = df_plot2['x'] == x\n",
    "        df_new = df_plot2[x_bool]\n",
    "        y_bool = df_new['y'] == y\n",
    "\n",
    "        df_new = df_new[y_bool]\n",
    "        #print(df_new['ttt'].values.shape[0])\n",
    "        if (df_new['ttt'].values.shape[0]  and x*x + y*y < 4 and x*x + y * y > 0.09):\n",
    "            ttt_arr[y_i][x_i] += df_new['ttt'].values.sum()/df_new['ttt'].values.shape[0]\n",
    "            \n",
    "        y_i += 1\n",
    "    x_i += 1\n"
   ]
  },
  {
   "cell_type": "code",
   "execution_count": 57,
   "metadata": {},
   "outputs": [
    {
     "name": "stdout",
     "output_type": "stream",
     "text": [
      "(70,) (100,)\n"
     ]
    },
    {
     "data": {
      "text/plain": [
       "(100, 70)"
      ]
     },
     "execution_count": 57,
     "metadata": {},
     "output_type": "execute_result"
    }
   ],
   "source": [
    "print(x_arr.shape,y_arr.shape)\n",
    "ttt_arr.shape"
   ]
  },
  {
   "cell_type": "code",
   "execution_count": 58,
   "metadata": {},
   "outputs": [
    {
     "data": {
      "text/plain": [
       "<matplotlib.colorbar.Colorbar at 0x7fa37091a5d0>"
      ]
     },
     "execution_count": 58,
     "metadata": {},
     "output_type": "execute_result"
    },
    {
     "data": {
      "image/png": "[encoded data removed]",
      "text/plain": [
       "<Figure size 432x288 with 2 Axes>"
      ]
     },
     "metadata": {
      "needs_background": "light"
     },
     "output_type": "display_data"
    }
   ],
   "source": [
    "x, y = np.meshgrid(x_arr, y_arr)\n",
    "\n",
    "r = x * x + y * y\n",
    "\n",
    "\n",
    "z = np.divide(ttt_arr,r, where= r != 0)\n",
    "\n",
    "#z = ttt_arr\n",
    "#z = r\n",
    "#print(z[z > 0])\n",
    "z_min, z_max = np.abs(z).min(), np.abs(z).max()\n",
    "fig, ax = plt.subplots()\n",
    "c = ax.pcolormesh(x, y, z, cmap='hot', vmin=z_min, vmax=z_max, label=\"density in [m^-2]\")\n",
    "# set the limits of the plot to the limits of the data\n",
    "ax.axis([x.min(), x.max(), y.min(), y.max()])\n",
    "plt.xlim([-2,2])\n",
    "plt.ylim([0,4])\n",
    "fig.colorbar(c, ax=ax, label=\"$\\\\rho$ in [$m^{-2}$]\")\n",
    "#print(z.mean())\n",
    "#print(\"corridor width = \", bi)\n",
    "#if bi == 1.7 or bi == 1.2:\n",
    "#    print(\"density jump\")\n",
    "#line_width = 2.5\n",
    "#add_wall(line_width,bi*2)\n",
    "#name_var = lin_var[test_var][test_var_count]\n",
    "#test_var_count += 1"
   ]
  }
 ],
 "metadata": {
  "kernelspec": {
   "display_name": "Python 3",
   "language": "python",
   "name": "python3"
  },
  "language_info": {
   "codemirror_mode": {
    "name": "ipython",
    "version": 3
   },
   "file_extension": ".py",
   "mimetype": "text/x-python",
   "name": "python",
   "nbconvert_exporter": "python",
   "pygments_lexer": "ipython3",
   "version": "3.7.4"
  }
 },
 "nbformat": 4,
 "nbformat_minor": 2
}
